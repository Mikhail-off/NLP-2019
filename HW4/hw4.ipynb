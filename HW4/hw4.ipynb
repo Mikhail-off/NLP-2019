{
 "cells": [
  {
   "cell_type": "markdown",
   "metadata": {},
   "source": [
    "# Домашнее задание 4\n",
    "## Text Normalization \n",
    "\n",
    "deadline: 15 декабря 2019, 23:59\n",
    "\n",
    "В этом домашнем задании вы будете работать с корпусом соревнования по нормализации текстов на русском языке. \n",
    "\n",
    "Ссылка на соревнование:\n",
    "https://www.kaggle.com/c/text-normalization-challenge-russian-language\n",
    "\n",
    "Корпус (train-test split) доступен там же, на kaggle. Кроме того, kaggle проверяет результаты на тестовом множестве. Пример сабмита в файле: ru_sample_submission_2. \n",
    "\n",
    "Задача заключается в том, привести исходный текст (колонку before) в нормализованную форму (колонка after). Дополнительно известны классы токенов (колонка class), общее число классов – 15. В тестовом множестве классы токенов отсутствуют. \n",
    "\n",
    "Корпус состоит из предложений на русском языке и их нормализованных аналогов. Примеры продемонстрированы на kaggle."
   ]
  },
  {
   "cell_type": "markdown",
   "metadata": {},
   "source": [
    "## ПРАВИЛА\n",
    "1. Домашнее задание выполняется в группе до 3-х человек.\n",
    "2. Домашнее задание сдается через anytask, инвайты будут дополнительно высланы.\n",
    "3. Домашнее задание оформляется в виде отчета либо в .pdf файле, либо ipython-тетрадке. \n",
    "4. Отчет должен содержать: нумерацию заданий и пунктов, которые вы выполнили, код решения, и понятное пошаговое описание того, что вы сделали. Отчет должен быть написан в академическом стиле, без излишнего использования сленга и с соблюдением норм русского языка.\n",
    "5. Не стоит копировать фрагменты лекций, статей и Википедии в ваш отчет.\n",
    "6. Отчеты, состоящие исключительно из кода, не будут проверены и будут автоматически оценены нулевой оценкой.\n",
    "7. Плагиат и любое недобросоветсное цитирование приводит к обнуление оценки. "
   ]
  },
  {
   "cell_type": "code",
   "execution_count": 1,
   "metadata": {},
   "outputs": [],
   "source": [
    "DATA_PREFFIX = 'data/'\n",
    "TEST_1_DATA_PATH = DATA_PREFFIX + 'ru_test.csv'\n",
    "TEST_2_DATA_PATH = DATA_PREFFIX + 'ru_test_2.csv'\n",
    "TRAIN_DATA_PATH = DATA_PREFFIX + 'ru_train.csv'\n",
    "SIMPLE_DATA_TRAIN_PATH = DATA_PREFFIX + 'simple_data_train.tsv'\n",
    "SIMPLE_DATA_TEST_PATH = DATA_PREFFIX + 'simple_data_test.tsv'"
   ]
  },
  {
   "cell_type": "code",
   "execution_count": 2,
   "metadata": {},
   "outputs": [],
   "source": [
    "import pandas as pd\n",
    "import numpy as np\n",
    "import torch\n",
    "import torchtext\n",
    "import os\n",
    "from tqdm import tqdm_notebook as tqdm\n",
    "import pickle\n",
    "import gc"
   ]
  },
  {
   "cell_type": "code",
   "execution_count": 3,
   "metadata": {},
   "outputs": [],
   "source": [
    "MAX_DF = 10**3\n",
    "df_train = pd.read_csv(TRAIN_DATA_PATH)\n",
    "df_train = df_train[:min(MAX_DF, df_train.shape[0])]"
   ]
  },
  {
   "cell_type": "code",
   "execution_count": 4,
   "metadata": {},
   "outputs": [
    {
     "data": {
      "text/html": [
       "<div>\n",
       "<style scoped>\n",
       "    .dataframe tbody tr th:only-of-type {\n",
       "        vertical-align: middle;\n",
       "    }\n",
       "\n",
       "    .dataframe tbody tr th {\n",
       "        vertical-align: top;\n",
       "    }\n",
       "\n",
       "    .dataframe thead th {\n",
       "        text-align: right;\n",
       "    }\n",
       "</style>\n",
       "<table border=\"1\" class=\"dataframe\">\n",
       "  <thead>\n",
       "    <tr style=\"text-align: right;\">\n",
       "      <th></th>\n",
       "      <th>sentence_id</th>\n",
       "      <th>token_id</th>\n",
       "      <th>class</th>\n",
       "      <th>before</th>\n",
       "      <th>after</th>\n",
       "    </tr>\n",
       "  </thead>\n",
       "  <tbody>\n",
       "    <tr>\n",
       "      <th>0</th>\n",
       "      <td>0</td>\n",
       "      <td>0</td>\n",
       "      <td>PLAIN</td>\n",
       "      <td>По</td>\n",
       "      <td>По</td>\n",
       "    </tr>\n",
       "    <tr>\n",
       "      <th>1</th>\n",
       "      <td>0</td>\n",
       "      <td>1</td>\n",
       "      <td>PLAIN</td>\n",
       "      <td>состоянию</td>\n",
       "      <td>состоянию</td>\n",
       "    </tr>\n",
       "    <tr>\n",
       "      <th>2</th>\n",
       "      <td>0</td>\n",
       "      <td>2</td>\n",
       "      <td>PLAIN</td>\n",
       "      <td>на</td>\n",
       "      <td>на</td>\n",
       "    </tr>\n",
       "    <tr>\n",
       "      <th>3</th>\n",
       "      <td>0</td>\n",
       "      <td>3</td>\n",
       "      <td>DATE</td>\n",
       "      <td>1862 год</td>\n",
       "      <td>тысяча восемьсот шестьдесят второй год</td>\n",
       "    </tr>\n",
       "    <tr>\n",
       "      <th>4</th>\n",
       "      <td>0</td>\n",
       "      <td>4</td>\n",
       "      <td>PUNCT</td>\n",
       "      <td>.</td>\n",
       "      <td>.</td>\n",
       "    </tr>\n",
       "    <tr>\n",
       "      <th>5</th>\n",
       "      <td>1</td>\n",
       "      <td>0</td>\n",
       "      <td>PLAIN</td>\n",
       "      <td>Оснащались</td>\n",
       "      <td>Оснащались</td>\n",
       "    </tr>\n",
       "    <tr>\n",
       "      <th>6</th>\n",
       "      <td>1</td>\n",
       "      <td>1</td>\n",
       "      <td>PLAIN</td>\n",
       "      <td>латными</td>\n",
       "      <td>латными</td>\n",
       "    </tr>\n",
       "    <tr>\n",
       "      <th>7</th>\n",
       "      <td>1</td>\n",
       "      <td>2</td>\n",
       "      <td>PLAIN</td>\n",
       "      <td>рукавицами</td>\n",
       "      <td>рукавицами</td>\n",
       "    </tr>\n",
       "    <tr>\n",
       "      <th>8</th>\n",
       "      <td>1</td>\n",
       "      <td>3</td>\n",
       "      <td>PLAIN</td>\n",
       "      <td>и</td>\n",
       "      <td>и</td>\n",
       "    </tr>\n",
       "    <tr>\n",
       "      <th>9</th>\n",
       "      <td>1</td>\n",
       "      <td>4</td>\n",
       "      <td>PLAIN</td>\n",
       "      <td>сабатонами</td>\n",
       "      <td>сабатонами</td>\n",
       "    </tr>\n",
       "  </tbody>\n",
       "</table>\n",
       "</div>"
      ],
      "text/plain": [
       "   sentence_id  token_id  class      before  \\\n",
       "0            0         0  PLAIN          По   \n",
       "1            0         1  PLAIN   состоянию   \n",
       "2            0         2  PLAIN          на   \n",
       "3            0         3   DATE    1862 год   \n",
       "4            0         4  PUNCT           .   \n",
       "5            1         0  PLAIN  Оснащались   \n",
       "6            1         1  PLAIN     латными   \n",
       "7            1         2  PLAIN  рукавицами   \n",
       "8            1         3  PLAIN           и   \n",
       "9            1         4  PLAIN  сабатонами   \n",
       "\n",
       "                                    after  \n",
       "0                                      По  \n",
       "1                               состоянию  \n",
       "2                                      на  \n",
       "3  тысяча восемьсот шестьдесят второй год  \n",
       "4                                       .  \n",
       "5                              Оснащались  \n",
       "6                                 латными  \n",
       "7                              рукавицами  \n",
       "8                                       и  \n",
       "9                              сабатонами  "
      ]
     },
     "execution_count": 4,
     "metadata": {},
     "output_type": "execute_result"
    }
   ],
   "source": [
    "df_train[:10]"
   ]
  },
  {
   "cell_type": "markdown",
   "metadata": {},
   "source": [
    "## Часть 1. [1 балл] Эксплоративный анализ\n",
    "\n",
    "1. Найдите примеры каждого класса и опишите, по какой логике проведена нормализация токенов разных классов. \n",
    "2. В каких случаях токены класса PLAIN подвергаются нормализации? \n",
    "3. Напишите правила для нормализации токенов класса ORDINAL. "
   ]
  },
  {
   "cell_type": "markdown",
   "metadata": {},
   "source": [
    "#### Пункки 1."
   ]
  },
  {
   "cell_type": "code",
   "execution_count": 5,
   "metadata": {},
   "outputs": [
    {
     "name": "stdout",
     "output_type": "stream",
     "text": [
      "ORDINAL LETTERS CARDINAL VERBATIM PUNCT MEASURE TELEPHONE PLAIN DATE\n"
     ]
    }
   ],
   "source": [
    "classes = set(df_train['class'].values)\n",
    "print(*classes)"
   ]
  },
  {
   "cell_type": "code",
   "execution_count": 6,
   "metadata": {},
   "outputs": [
    {
     "data": {
      "text/html": [
       "<div>\n",
       "<style scoped>\n",
       "    .dataframe tbody tr th:only-of-type {\n",
       "        vertical-align: middle;\n",
       "    }\n",
       "\n",
       "    .dataframe tbody tr th {\n",
       "        vertical-align: top;\n",
       "    }\n",
       "\n",
       "    .dataframe thead th {\n",
       "        text-align: right;\n",
       "    }\n",
       "</style>\n",
       "<table border=\"1\" class=\"dataframe\">\n",
       "  <thead>\n",
       "    <tr style=\"text-align: right;\">\n",
       "      <th></th>\n",
       "      <th>sentence_id</th>\n",
       "      <th>token_id</th>\n",
       "      <th>class</th>\n",
       "      <th>before</th>\n",
       "      <th>after</th>\n",
       "    </tr>\n",
       "  </thead>\n",
       "  <tbody>\n",
       "  </tbody>\n",
       "</table>\n",
       "</div>"
      ],
      "text/plain": [
       "Empty DataFrame\n",
       "Columns: [sentence_id, token_id, class, before, after]\n",
       "Index: []"
      ]
     },
     "execution_count": 6,
     "metadata": {},
     "output_type": "execute_result"
    }
   ],
   "source": [
    "df_train[df_train['class'] == 'DIGIT'].head()"
   ]
  },
  {
   "cell_type": "markdown",
   "metadata": {},
   "source": [
    "* DIGIT состоит из цифр, переходит в последовательность слов "
   ]
  },
  {
   "cell_type": "code",
   "execution_count": 7,
   "metadata": {},
   "outputs": [
    {
     "data": {
      "text/html": [
       "<div>\n",
       "<style scoped>\n",
       "    .dataframe tbody tr th:only-of-type {\n",
       "        vertical-align: middle;\n",
       "    }\n",
       "\n",
       "    .dataframe tbody tr th {\n",
       "        vertical-align: top;\n",
       "    }\n",
       "\n",
       "    .dataframe thead th {\n",
       "        text-align: right;\n",
       "    }\n",
       "</style>\n",
       "<table border=\"1\" class=\"dataframe\">\n",
       "  <thead>\n",
       "    <tr style=\"text-align: right;\">\n",
       "      <th></th>\n",
       "      <th>sentence_id</th>\n",
       "      <th>token_id</th>\n",
       "      <th>class</th>\n",
       "      <th>before</th>\n",
       "      <th>after</th>\n",
       "    </tr>\n",
       "  </thead>\n",
       "  <tbody>\n",
       "  </tbody>\n",
       "</table>\n",
       "</div>"
      ],
      "text/plain": [
       "Empty DataFrame\n",
       "Columns: [sentence_id, token_id, class, before, after]\n",
       "Index: []"
      ]
     },
     "execution_count": 7,
     "metadata": {},
     "output_type": "execute_result"
    }
   ],
   "source": [
    "df_train[df_train['class'] == 'MONEY'].head()"
   ]
  },
  {
   "cell_type": "markdown",
   "metadata": {},
   "source": [
    "* MONEY состоит из числа суммы денег и единицы измерения, переходит в соотв последовательность слов"
   ]
  },
  {
   "cell_type": "code",
   "execution_count": 8,
   "metadata": {},
   "outputs": [
    {
     "data": {
      "text/html": [
       "<div>\n",
       "<style scoped>\n",
       "    .dataframe tbody tr th:only-of-type {\n",
       "        vertical-align: middle;\n",
       "    }\n",
       "\n",
       "    .dataframe tbody tr th {\n",
       "        vertical-align: top;\n",
       "    }\n",
       "\n",
       "    .dataframe thead th {\n",
       "        text-align: right;\n",
       "    }\n",
       "</style>\n",
       "<table border=\"1\" class=\"dataframe\">\n",
       "  <thead>\n",
       "    <tr style=\"text-align: right;\">\n",
       "      <th></th>\n",
       "      <th>sentence_id</th>\n",
       "      <th>token_id</th>\n",
       "      <th>class</th>\n",
       "      <th>before</th>\n",
       "      <th>after</th>\n",
       "    </tr>\n",
       "  </thead>\n",
       "  <tbody>\n",
       "    <tr>\n",
       "      <th>92</th>\n",
       "      <td>6</td>\n",
       "      <td>8</td>\n",
       "      <td>LETTERS</td>\n",
       "      <td>TV</td>\n",
       "      <td>t v</td>\n",
       "    </tr>\n",
       "    <tr>\n",
       "      <th>186</th>\n",
       "      <td>12</td>\n",
       "      <td>9</td>\n",
       "      <td>LETTERS</td>\n",
       "      <td>РСФСР</td>\n",
       "      <td>р с ф с р</td>\n",
       "    </tr>\n",
       "    <tr>\n",
       "      <th>301</th>\n",
       "      <td>24</td>\n",
       "      <td>1</td>\n",
       "      <td>LETTERS</td>\n",
       "      <td>СПб</td>\n",
       "      <td>с п б</td>\n",
       "    </tr>\n",
       "    <tr>\n",
       "      <th>340</th>\n",
       "      <td>26</td>\n",
       "      <td>1</td>\n",
       "      <td>LETTERS</td>\n",
       "      <td>СПб</td>\n",
       "      <td>с п б</td>\n",
       "    </tr>\n",
       "    <tr>\n",
       "      <th>346</th>\n",
       "      <td>26</td>\n",
       "      <td>7</td>\n",
       "      <td>LETTERS</td>\n",
       "      <td>В. А.</td>\n",
       "      <td>в а</td>\n",
       "    </tr>\n",
       "  </tbody>\n",
       "</table>\n",
       "</div>"
      ],
      "text/plain": [
       "     sentence_id  token_id    class before      after\n",
       "92             6         8  LETTERS     TV        t v\n",
       "186           12         9  LETTERS  РСФСР  р с ф с р\n",
       "301           24         1  LETTERS    СПб      с п б\n",
       "340           26         1  LETTERS    СПб      с п б\n",
       "346           26         7  LETTERS  В. А.        в а"
      ]
     },
     "execution_count": 8,
     "metadata": {},
     "output_type": "execute_result"
    }
   ],
   "source": [
    "df_train[df_train['class'] == 'LETTERS'].head()"
   ]
  },
  {
   "cell_type": "markdown",
   "metadata": {},
   "source": [
    "* LETTERS состоит из аббревиатур, переходит в маленькие буквы, разделенные пробелами"
   ]
  },
  {
   "cell_type": "code",
   "execution_count": 9,
   "metadata": {},
   "outputs": [
    {
     "data": {
      "text/html": [
       "<div>\n",
       "<style scoped>\n",
       "    .dataframe tbody tr th:only-of-type {\n",
       "        vertical-align: middle;\n",
       "    }\n",
       "\n",
       "    .dataframe tbody tr th {\n",
       "        vertical-align: top;\n",
       "    }\n",
       "\n",
       "    .dataframe thead th {\n",
       "        text-align: right;\n",
       "    }\n",
       "</style>\n",
       "<table border=\"1\" class=\"dataframe\">\n",
       "  <thead>\n",
       "    <tr style=\"text-align: right;\">\n",
       "      <th></th>\n",
       "      <th>sentence_id</th>\n",
       "      <th>token_id</th>\n",
       "      <th>class</th>\n",
       "      <th>before</th>\n",
       "      <th>after</th>\n",
       "    </tr>\n",
       "  </thead>\n",
       "  <tbody>\n",
       "    <tr>\n",
       "      <th>137</th>\n",
       "      <td>9</td>\n",
       "      <td>9</td>\n",
       "      <td>CARDINAL</td>\n",
       "      <td>254</td>\n",
       "      <td>двести пятьдесят четыре</td>\n",
       "    </tr>\n",
       "    <tr>\n",
       "      <th>272</th>\n",
       "      <td>21</td>\n",
       "      <td>7</td>\n",
       "      <td>CARDINAL</td>\n",
       "      <td>2014</td>\n",
       "      <td>две тысячи четырнадцать</td>\n",
       "    </tr>\n",
       "    <tr>\n",
       "      <th>275</th>\n",
       "      <td>21</td>\n",
       "      <td>10</td>\n",
       "      <td>CARDINAL</td>\n",
       "      <td>12</td>\n",
       "      <td>двенадцать</td>\n",
       "    </tr>\n",
       "    <tr>\n",
       "      <th>304</th>\n",
       "      <td>24</td>\n",
       "      <td>4</td>\n",
       "      <td>CARDINAL</td>\n",
       "      <td>2014</td>\n",
       "      <td>две тысячи четырнадцать</td>\n",
       "    </tr>\n",
       "    <tr>\n",
       "      <th>343</th>\n",
       "      <td>26</td>\n",
       "      <td>4</td>\n",
       "      <td>CARDINAL</td>\n",
       "      <td>2011</td>\n",
       "      <td>две тысячи одиннадцать</td>\n",
       "    </tr>\n",
       "  </tbody>\n",
       "</table>\n",
       "</div>"
      ],
      "text/plain": [
       "     sentence_id  token_id     class before                    after\n",
       "137            9         9  CARDINAL    254  двести пятьдесят четыре\n",
       "272           21         7  CARDINAL   2014  две тысячи четырнадцать\n",
       "275           21        10  CARDINAL     12               двенадцать\n",
       "304           24         4  CARDINAL   2014  две тысячи четырнадцать\n",
       "343           26         4  CARDINAL   2011   две тысячи одиннадцать"
      ]
     },
     "execution_count": 9,
     "metadata": {},
     "output_type": "execute_result"
    }
   ],
   "source": [
    "df_train[df_train['class'] == 'CARDINAL'].head()"
   ]
  },
  {
   "cell_type": "markdown",
   "metadata": {},
   "source": [
    "* CARDINAL состоит из чисел, переходит в слова, обозначающие эти числа"
   ]
  },
  {
   "cell_type": "code",
   "execution_count": 10,
   "metadata": {},
   "outputs": [
    {
     "data": {
      "text/html": [
       "<div>\n",
       "<style scoped>\n",
       "    .dataframe tbody tr th:only-of-type {\n",
       "        vertical-align: middle;\n",
       "    }\n",
       "\n",
       "    .dataframe tbody tr th {\n",
       "        vertical-align: top;\n",
       "    }\n",
       "\n",
       "    .dataframe thead th {\n",
       "        text-align: right;\n",
       "    }\n",
       "</style>\n",
       "<table border=\"1\" class=\"dataframe\">\n",
       "  <thead>\n",
       "    <tr style=\"text-align: right;\">\n",
       "      <th></th>\n",
       "      <th>sentence_id</th>\n",
       "      <th>token_id</th>\n",
       "      <th>class</th>\n",
       "      <th>before</th>\n",
       "      <th>after</th>\n",
       "    </tr>\n",
       "  </thead>\n",
       "  <tbody>\n",
       "  </tbody>\n",
       "</table>\n",
       "</div>"
      ],
      "text/plain": [
       "Empty DataFrame\n",
       "Columns: [sentence_id, token_id, class, before, after]\n",
       "Index: []"
      ]
     },
     "execution_count": 10,
     "metadata": {},
     "output_type": "execute_result"
    }
   ],
   "source": [
    "df_train[df_train['class'] == 'FRACTION'].head()"
   ]
  },
  {
   "cell_type": "markdown",
   "metadata": {},
   "source": [
    "* FRACTION состоит из дробного числа, переходит в словарную запись дроби"
   ]
  },
  {
   "cell_type": "code",
   "execution_count": 11,
   "metadata": {},
   "outputs": [
    {
     "data": {
      "text/html": [
       "<div>\n",
       "<style scoped>\n",
       "    .dataframe tbody tr th:only-of-type {\n",
       "        vertical-align: middle;\n",
       "    }\n",
       "\n",
       "    .dataframe tbody tr th {\n",
       "        vertical-align: top;\n",
       "    }\n",
       "\n",
       "    .dataframe thead th {\n",
       "        text-align: right;\n",
       "    }\n",
       "</style>\n",
       "<table border=\"1\" class=\"dataframe\">\n",
       "  <thead>\n",
       "    <tr style=\"text-align: right;\">\n",
       "      <th></th>\n",
       "      <th>sentence_id</th>\n",
       "      <th>token_id</th>\n",
       "      <th>class</th>\n",
       "      <th>before</th>\n",
       "      <th>after</th>\n",
       "    </tr>\n",
       "  </thead>\n",
       "  <tbody>\n",
       "    <tr>\n",
       "      <th>576</th>\n",
       "      <td>41</td>\n",
       "      <td>2</td>\n",
       "      <td>TELEPHONE</td>\n",
       "      <td>978-5-86007-700-3</td>\n",
       "      <td>девятьсот семьдесят восемь sil пять sil восемь...</td>\n",
       "    </tr>\n",
       "  </tbody>\n",
       "</table>\n",
       "</div>"
      ],
      "text/plain": [
       "     sentence_id  token_id      class             before  \\\n",
       "576           41         2  TELEPHONE  978-5-86007-700-3   \n",
       "\n",
       "                                                 after  \n",
       "576  девятьсот семьдесят восемь sil пять sil восемь...  "
      ]
     },
     "execution_count": 11,
     "metadata": {},
     "output_type": "execute_result"
    }
   ],
   "source": [
    "df_train[df_train['class'] == 'TELEPHONE'].head()"
   ]
  },
  {
   "cell_type": "markdown",
   "metadata": {},
   "source": [
    "* TELEPHONE состоит из номера телефона с дефисами, переходит в запись на русском языке, вместо дефисов в записи появляются слова 'sil'"
   ]
  },
  {
   "cell_type": "code",
   "execution_count": 12,
   "metadata": {},
   "outputs": [
    {
     "data": {
      "text/html": [
       "<div>\n",
       "<style scoped>\n",
       "    .dataframe tbody tr th:only-of-type {\n",
       "        vertical-align: middle;\n",
       "    }\n",
       "\n",
       "    .dataframe tbody tr th {\n",
       "        vertical-align: top;\n",
       "    }\n",
       "\n",
       "    .dataframe thead th {\n",
       "        text-align: right;\n",
       "    }\n",
       "</style>\n",
       "<table border=\"1\" class=\"dataframe\">\n",
       "  <thead>\n",
       "    <tr style=\"text-align: right;\">\n",
       "      <th></th>\n",
       "      <th>sentence_id</th>\n",
       "      <th>token_id</th>\n",
       "      <th>class</th>\n",
       "      <th>before</th>\n",
       "      <th>after</th>\n",
       "    </tr>\n",
       "  </thead>\n",
       "  <tbody>\n",
       "  </tbody>\n",
       "</table>\n",
       "</div>"
      ],
      "text/plain": [
       "Empty DataFrame\n",
       "Columns: [sentence_id, token_id, class, before, after]\n",
       "Index: []"
      ]
     },
     "execution_count": 12,
     "metadata": {},
     "output_type": "execute_result"
    }
   ],
   "source": [
    "df_train[df_train['class'] == 'DIGIT'].head()"
   ]
  },
  {
   "cell_type": "markdown",
   "metadata": {},
   "source": [
    "* DIGIT состоит из цифр, несущих в себе лишь смысл \"последовательность цифр\""
   ]
  },
  {
   "cell_type": "code",
   "execution_count": 13,
   "metadata": {},
   "outputs": [
    {
     "data": {
      "text/html": [
       "<div>\n",
       "<style scoped>\n",
       "    .dataframe tbody tr th:only-of-type {\n",
       "        vertical-align: middle;\n",
       "    }\n",
       "\n",
       "    .dataframe tbody tr th {\n",
       "        vertical-align: top;\n",
       "    }\n",
       "\n",
       "    .dataframe thead th {\n",
       "        text-align: right;\n",
       "    }\n",
       "</style>\n",
       "<table border=\"1\" class=\"dataframe\">\n",
       "  <thead>\n",
       "    <tr style=\"text-align: right;\">\n",
       "      <th></th>\n",
       "      <th>sentence_id</th>\n",
       "      <th>token_id</th>\n",
       "      <th>class</th>\n",
       "      <th>before</th>\n",
       "      <th>after</th>\n",
       "    </tr>\n",
       "  </thead>\n",
       "  <tbody>\n",
       "    <tr>\n",
       "      <th>4</th>\n",
       "      <td>0</td>\n",
       "      <td>4</td>\n",
       "      <td>PUNCT</td>\n",
       "      <td>.</td>\n",
       "      <td>.</td>\n",
       "    </tr>\n",
       "    <tr>\n",
       "      <th>14</th>\n",
       "      <td>1</td>\n",
       "      <td>9</td>\n",
       "      <td>PUNCT</td>\n",
       "      <td>.</td>\n",
       "      <td>.</td>\n",
       "    </tr>\n",
       "    <tr>\n",
       "      <th>18</th>\n",
       "      <td>2</td>\n",
       "      <td>3</td>\n",
       "      <td>PUNCT</td>\n",
       "      <td>,</td>\n",
       "      <td>,</td>\n",
       "    </tr>\n",
       "    <tr>\n",
       "      <th>24</th>\n",
       "      <td>2</td>\n",
       "      <td>9</td>\n",
       "      <td>PUNCT</td>\n",
       "      <td>(</td>\n",
       "      <td>(</td>\n",
       "    </tr>\n",
       "    <tr>\n",
       "      <th>27</th>\n",
       "      <td>2</td>\n",
       "      <td>12</td>\n",
       "      <td>PUNCT</td>\n",
       "      <td>)</td>\n",
       "      <td>)</td>\n",
       "    </tr>\n",
       "  </tbody>\n",
       "</table>\n",
       "</div>"
      ],
      "text/plain": [
       "    sentence_id  token_id  class before after\n",
       "4             0         4  PUNCT      .     .\n",
       "14            1         9  PUNCT      .     .\n",
       "18            2         3  PUNCT      ,     ,\n",
       "24            2         9  PUNCT      (     (\n",
       "27            2        12  PUNCT      )     )"
      ]
     },
     "execution_count": 13,
     "metadata": {},
     "output_type": "execute_result"
    }
   ],
   "source": [
    "df_train[df_train['class'] == 'PUNCT'].head()"
   ]
  },
  {
   "cell_type": "markdown",
   "metadata": {},
   "source": [
    "* PUNCT состоит из знаков пунктуации, переходит в себя"
   ]
  },
  {
   "cell_type": "code",
   "execution_count": 14,
   "metadata": {},
   "outputs": [
    {
     "data": {
      "text/html": [
       "<div>\n",
       "<style scoped>\n",
       "    .dataframe tbody tr th:only-of-type {\n",
       "        vertical-align: middle;\n",
       "    }\n",
       "\n",
       "    .dataframe tbody tr th {\n",
       "        vertical-align: top;\n",
       "    }\n",
       "\n",
       "    .dataframe thead th {\n",
       "        text-align: right;\n",
       "    }\n",
       "</style>\n",
       "<table border=\"1\" class=\"dataframe\">\n",
       "  <thead>\n",
       "    <tr style=\"text-align: right;\">\n",
       "      <th></th>\n",
       "      <th>sentence_id</th>\n",
       "      <th>token_id</th>\n",
       "      <th>class</th>\n",
       "      <th>before</th>\n",
       "      <th>after</th>\n",
       "    </tr>\n",
       "  </thead>\n",
       "  <tbody>\n",
       "  </tbody>\n",
       "</table>\n",
       "</div>"
      ],
      "text/plain": [
       "Empty DataFrame\n",
       "Columns: [sentence_id, token_id, class, before, after]\n",
       "Index: []"
      ]
     },
     "execution_count": 14,
     "metadata": {},
     "output_type": "execute_result"
    }
   ],
   "source": [
    "df_train[df_train['class'] == 'TIME'].head()"
   ]
  },
  {
   "cell_type": "markdown",
   "metadata": {},
   "source": [
    "* TIME состоит из времени, переходит в себя, когда точность до секунд, в последовательность слов, когда до минут"
   ]
  },
  {
   "cell_type": "code",
   "execution_count": 15,
   "metadata": {},
   "outputs": [
    {
     "data": {
      "text/html": [
       "<div>\n",
       "<style scoped>\n",
       "    .dataframe tbody tr th:only-of-type {\n",
       "        vertical-align: middle;\n",
       "    }\n",
       "\n",
       "    .dataframe tbody tr th {\n",
       "        vertical-align: top;\n",
       "    }\n",
       "\n",
       "    .dataframe thead th {\n",
       "        text-align: right;\n",
       "    }\n",
       "</style>\n",
       "<table border=\"1\" class=\"dataframe\">\n",
       "  <thead>\n",
       "    <tr style=\"text-align: right;\">\n",
       "      <th></th>\n",
       "      <th>sentence_id</th>\n",
       "      <th>token_id</th>\n",
       "      <th>class</th>\n",
       "      <th>before</th>\n",
       "      <th>after</th>\n",
       "    </tr>\n",
       "  </thead>\n",
       "  <tbody>\n",
       "    <tr>\n",
       "      <th>365</th>\n",
       "      <td>27</td>\n",
       "      <td>12</td>\n",
       "      <td>MEASURE</td>\n",
       "      <td>61st</td>\n",
       "      <td>шестьдесят один стоун</td>\n",
       "    </tr>\n",
       "    <tr>\n",
       "      <th>412</th>\n",
       "      <td>30</td>\n",
       "      <td>13</td>\n",
       "      <td>MEASURE</td>\n",
       "      <td>31 минуту</td>\n",
       "      <td>тридцати одной минуту</td>\n",
       "    </tr>\n",
       "    <tr>\n",
       "      <th>474</th>\n",
       "      <td>34</td>\n",
       "      <td>12</td>\n",
       "      <td>MEASURE</td>\n",
       "      <td>500 км</td>\n",
       "      <td>пятисот километров</td>\n",
       "    </tr>\n",
       "    <tr>\n",
       "      <th>605</th>\n",
       "      <td>44</td>\n",
       "      <td>6</td>\n",
       "      <td>MEASURE</td>\n",
       "      <td>80 см.</td>\n",
       "      <td>восемьдесят сантиметров</td>\n",
       "    </tr>\n",
       "    <tr>\n",
       "      <th>793</th>\n",
       "      <td>55</td>\n",
       "      <td>18</td>\n",
       "      <td>MEASURE</td>\n",
       "      <td>480 с.</td>\n",
       "      <td>четыреста восемьдесят секунд</td>\n",
       "    </tr>\n",
       "  </tbody>\n",
       "</table>\n",
       "</div>"
      ],
      "text/plain": [
       "     sentence_id  token_id    class     before                         after\n",
       "365           27        12  MEASURE       61st         шестьдесят один стоун\n",
       "412           30        13  MEASURE  31 минуту         тридцати одной минуту\n",
       "474           34        12  MEASURE     500 км            пятисот километров\n",
       "605           44         6  MEASURE     80 см.       восемьдесят сантиметров\n",
       "793           55        18  MEASURE     480 с.  четыреста восемьдесят секунд"
      ]
     },
     "execution_count": 15,
     "metadata": {},
     "output_type": "execute_result"
    }
   ],
   "source": [
    "df_train[df_train['class'] == 'MEASURE'].head()"
   ]
  },
  {
   "cell_type": "markdown",
   "metadata": {},
   "source": [
    "* MEASURE состоит из числа и единицы измерения, переходит в число словами и расшифровку этой единицы"
   ]
  },
  {
   "cell_type": "code",
   "execution_count": 16,
   "metadata": {},
   "outputs": [
    {
     "data": {
      "text/html": [
       "<div>\n",
       "<style scoped>\n",
       "    .dataframe tbody tr th:only-of-type {\n",
       "        vertical-align: middle;\n",
       "    }\n",
       "\n",
       "    .dataframe tbody tr th {\n",
       "        vertical-align: top;\n",
       "    }\n",
       "\n",
       "    .dataframe thead th {\n",
       "        text-align: right;\n",
       "    }\n",
       "</style>\n",
       "<table border=\"1\" class=\"dataframe\">\n",
       "  <thead>\n",
       "    <tr style=\"text-align: right;\">\n",
       "      <th></th>\n",
       "      <th>sentence_id</th>\n",
       "      <th>token_id</th>\n",
       "      <th>class</th>\n",
       "      <th>before</th>\n",
       "      <th>after</th>\n",
       "    </tr>\n",
       "  </thead>\n",
       "  <tbody>\n",
       "    <tr>\n",
       "      <th>60</th>\n",
       "      <td>4</td>\n",
       "      <td>4</td>\n",
       "      <td>VERBATIM</td>\n",
       "      <td>-</td>\n",
       "      <td>-</td>\n",
       "    </tr>\n",
       "    <tr>\n",
       "      <th>109</th>\n",
       "      <td>7</td>\n",
       "      <td>10</td>\n",
       "      <td>VERBATIM</td>\n",
       "      <td>兄</td>\n",
       "      <td>兄</td>\n",
       "    </tr>\n",
       "    <tr>\n",
       "      <th>110</th>\n",
       "      <td>7</td>\n",
       "      <td>11</td>\n",
       "      <td>VERBATIM</td>\n",
       "      <td>貴</td>\n",
       "      <td>貴</td>\n",
       "    </tr>\n",
       "    <tr>\n",
       "      <th>125</th>\n",
       "      <td>8</td>\n",
       "      <td>9</td>\n",
       "      <td>VERBATIM</td>\n",
       "      <td>-</td>\n",
       "      <td>-</td>\n",
       "    </tr>\n",
       "    <tr>\n",
       "      <th>212</th>\n",
       "      <td>16</td>\n",
       "      <td>7</td>\n",
       "      <td>VERBATIM</td>\n",
       "      <td>-</td>\n",
       "      <td>-</td>\n",
       "    </tr>\n",
       "  </tbody>\n",
       "</table>\n",
       "</div>"
      ],
      "text/plain": [
       "     sentence_id  token_id     class before after\n",
       "60             4         4  VERBATIM      -     -\n",
       "109            7        10  VERBATIM      兄     兄\n",
       "110            7        11  VERBATIM      貴     貴\n",
       "125            8         9  VERBATIM      -     -\n",
       "212           16         7  VERBATIM      -     -"
      ]
     },
     "execution_count": 16,
     "metadata": {},
     "output_type": "execute_result"
    }
   ],
   "source": [
    "df_train[df_train['class'] == 'VERBATIM'].head()"
   ]
  },
  {
   "cell_type": "markdown",
   "metadata": {},
   "source": [
    "* VERBATIM состоит из специальных символов, переходит в себя"
   ]
  },
  {
   "cell_type": "code",
   "execution_count": 17,
   "metadata": {},
   "outputs": [
    {
     "data": {
      "text/html": [
       "<div>\n",
       "<style scoped>\n",
       "    .dataframe tbody tr th:only-of-type {\n",
       "        vertical-align: middle;\n",
       "    }\n",
       "\n",
       "    .dataframe tbody tr th {\n",
       "        vertical-align: top;\n",
       "    }\n",
       "\n",
       "    .dataframe thead th {\n",
       "        text-align: right;\n",
       "    }\n",
       "</style>\n",
       "<table border=\"1\" class=\"dataframe\">\n",
       "  <thead>\n",
       "    <tr style=\"text-align: right;\">\n",
       "      <th></th>\n",
       "      <th>sentence_id</th>\n",
       "      <th>token_id</th>\n",
       "      <th>class</th>\n",
       "      <th>before</th>\n",
       "      <th>after</th>\n",
       "    </tr>\n",
       "  </thead>\n",
       "  <tbody>\n",
       "  </tbody>\n",
       "</table>\n",
       "</div>"
      ],
      "text/plain": [
       "Empty DataFrame\n",
       "Columns: [sentence_id, token_id, class, before, after]\n",
       "Index: []"
      ]
     },
     "execution_count": 17,
     "metadata": {},
     "output_type": "execute_result"
    }
   ],
   "source": [
    "df_train[df_train['class'] == 'DECIMAL'].head()"
   ]
  },
  {
   "cell_type": "markdown",
   "metadata": {},
   "source": [
    "* DECIMAL состоит из десятичных дробей, переходит в слова"
   ]
  },
  {
   "cell_type": "code",
   "execution_count": 18,
   "metadata": {},
   "outputs": [
    {
     "data": {
      "text/html": [
       "<div>\n",
       "<style scoped>\n",
       "    .dataframe tbody tr th:only-of-type {\n",
       "        vertical-align: middle;\n",
       "    }\n",
       "\n",
       "    .dataframe tbody tr th {\n",
       "        vertical-align: top;\n",
       "    }\n",
       "\n",
       "    .dataframe thead th {\n",
       "        text-align: right;\n",
       "    }\n",
       "</style>\n",
       "<table border=\"1\" class=\"dataframe\">\n",
       "  <thead>\n",
       "    <tr style=\"text-align: right;\">\n",
       "      <th></th>\n",
       "      <th>sentence_id</th>\n",
       "      <th>token_id</th>\n",
       "      <th>class</th>\n",
       "      <th>before</th>\n",
       "      <th>after</th>\n",
       "    </tr>\n",
       "  </thead>\n",
       "  <tbody>\n",
       "    <tr>\n",
       "      <th>3</th>\n",
       "      <td>0</td>\n",
       "      <td>3</td>\n",
       "      <td>DATE</td>\n",
       "      <td>1862 год</td>\n",
       "      <td>тысяча восемьсот шестьдесят второй год</td>\n",
       "    </tr>\n",
       "    <tr>\n",
       "      <th>17</th>\n",
       "      <td>2</td>\n",
       "      <td>2</td>\n",
       "      <td>DATE</td>\n",
       "      <td>1811 года</td>\n",
       "      <td>тысяча восемьсот одиннадцатого года</td>\n",
       "    </tr>\n",
       "    <tr>\n",
       "      <th>85</th>\n",
       "      <td>6</td>\n",
       "      <td>1</td>\n",
       "      <td>DATE</td>\n",
       "      <td>12 февраля 2013</td>\n",
       "      <td>двенадцатого февраля две тысячи тринадцатого года</td>\n",
       "    </tr>\n",
       "    <tr>\n",
       "      <th>90</th>\n",
       "      <td>6</td>\n",
       "      <td>6</td>\n",
       "      <td>DATE</td>\n",
       "      <td>15 февраля 2013</td>\n",
       "      <td>пятнадцатого февраля две тысячи тринадцатого года</td>\n",
       "    </tr>\n",
       "    <tr>\n",
       "      <th>189</th>\n",
       "      <td>13</td>\n",
       "      <td>1</td>\n",
       "      <td>DATE</td>\n",
       "      <td>1905 года</td>\n",
       "      <td>тысяча девятьсот пятого года</td>\n",
       "    </tr>\n",
       "  </tbody>\n",
       "</table>\n",
       "</div>"
      ],
      "text/plain": [
       "     sentence_id  token_id class           before  \\\n",
       "3              0         3  DATE         1862 год   \n",
       "17             2         2  DATE        1811 года   \n",
       "85             6         1  DATE  12 февраля 2013   \n",
       "90             6         6  DATE  15 февраля 2013   \n",
       "189           13         1  DATE        1905 года   \n",
       "\n",
       "                                                 after  \n",
       "3               тысяча восемьсот шестьдесят второй год  \n",
       "17                 тысяча восемьсот одиннадцатого года  \n",
       "85   двенадцатого февраля две тысячи тринадцатого года  \n",
       "90   пятнадцатого февраля две тысячи тринадцатого года  \n",
       "189                       тысяча девятьсот пятого года  "
      ]
     },
     "execution_count": 18,
     "metadata": {},
     "output_type": "execute_result"
    }
   ],
   "source": [
    "df_train[df_train['class'] == 'DATE'].head()"
   ]
  },
  {
   "cell_type": "markdown",
   "metadata": {},
   "source": [
    "* DATE состоит из дат, переходит в слова"
   ]
  },
  {
   "cell_type": "code",
   "execution_count": 19,
   "metadata": {},
   "outputs": [
    {
     "data": {
      "text/html": [
       "<div>\n",
       "<style scoped>\n",
       "    .dataframe tbody tr th:only-of-type {\n",
       "        vertical-align: middle;\n",
       "    }\n",
       "\n",
       "    .dataframe tbody tr th {\n",
       "        vertical-align: top;\n",
       "    }\n",
       "\n",
       "    .dataframe thead th {\n",
       "        text-align: right;\n",
       "    }\n",
       "</style>\n",
       "<table border=\"1\" class=\"dataframe\">\n",
       "  <thead>\n",
       "    <tr style=\"text-align: right;\">\n",
       "      <th></th>\n",
       "      <th>sentence_id</th>\n",
       "      <th>token_id</th>\n",
       "      <th>class</th>\n",
       "      <th>before</th>\n",
       "      <th>after</th>\n",
       "    </tr>\n",
       "  </thead>\n",
       "  <tbody>\n",
       "  </tbody>\n",
       "</table>\n",
       "</div>"
      ],
      "text/plain": [
       "Empty DataFrame\n",
       "Columns: [sentence_id, token_id, class, before, after]\n",
       "Index: []"
      ]
     },
     "execution_count": 19,
     "metadata": {},
     "output_type": "execute_result"
    }
   ],
   "source": [
    "df_train[df_train['class'] == 'ELECTRONIC'].head()"
   ]
  },
  {
   "cell_type": "markdown",
   "metadata": {},
   "source": [
    "* ELECTRONIC состоит из аглийских слов и чисел. Англ слова переходят в их транскрипцию, числа в их запись словами"
   ]
  },
  {
   "cell_type": "code",
   "execution_count": 20,
   "metadata": {},
   "outputs": [
    {
     "data": {
      "text/html": [
       "<div>\n",
       "<style scoped>\n",
       "    .dataframe tbody tr th:only-of-type {\n",
       "        vertical-align: middle;\n",
       "    }\n",
       "\n",
       "    .dataframe tbody tr th {\n",
       "        vertical-align: top;\n",
       "    }\n",
       "\n",
       "    .dataframe thead th {\n",
       "        text-align: right;\n",
       "    }\n",
       "</style>\n",
       "<table border=\"1\" class=\"dataframe\">\n",
       "  <thead>\n",
       "    <tr style=\"text-align: right;\">\n",
       "      <th></th>\n",
       "      <th>sentence_id</th>\n",
       "      <th>token_id</th>\n",
       "      <th>class</th>\n",
       "      <th>before</th>\n",
       "      <th>after</th>\n",
       "    </tr>\n",
       "  </thead>\n",
       "  <tbody>\n",
       "    <tr>\n",
       "      <th>0</th>\n",
       "      <td>0</td>\n",
       "      <td>0</td>\n",
       "      <td>PLAIN</td>\n",
       "      <td>По</td>\n",
       "      <td>По</td>\n",
       "    </tr>\n",
       "    <tr>\n",
       "      <th>1</th>\n",
       "      <td>0</td>\n",
       "      <td>1</td>\n",
       "      <td>PLAIN</td>\n",
       "      <td>состоянию</td>\n",
       "      <td>состоянию</td>\n",
       "    </tr>\n",
       "    <tr>\n",
       "      <th>2</th>\n",
       "      <td>0</td>\n",
       "      <td>2</td>\n",
       "      <td>PLAIN</td>\n",
       "      <td>на</td>\n",
       "      <td>на</td>\n",
       "    </tr>\n",
       "    <tr>\n",
       "      <th>5</th>\n",
       "      <td>1</td>\n",
       "      <td>0</td>\n",
       "      <td>PLAIN</td>\n",
       "      <td>Оснащались</td>\n",
       "      <td>Оснащались</td>\n",
       "    </tr>\n",
       "    <tr>\n",
       "      <th>6</th>\n",
       "      <td>1</td>\n",
       "      <td>1</td>\n",
       "      <td>PLAIN</td>\n",
       "      <td>латными</td>\n",
       "      <td>латными</td>\n",
       "    </tr>\n",
       "  </tbody>\n",
       "</table>\n",
       "</div>"
      ],
      "text/plain": [
       "   sentence_id  token_id  class      before       after\n",
       "0            0         0  PLAIN          По          По\n",
       "1            0         1  PLAIN   состоянию   состоянию\n",
       "2            0         2  PLAIN          на          на\n",
       "5            1         0  PLAIN  Оснащались  Оснащались\n",
       "6            1         1  PLAIN     латными     латными"
      ]
     },
     "execution_count": 20,
     "metadata": {},
     "output_type": "execute_result"
    }
   ],
   "source": [
    "df_train[df_train['class'] == 'PLAIN'].head()"
   ]
  },
  {
   "cell_type": "markdown",
   "metadata": {},
   "source": [
    "* PLAIN состоит из слов. Русские слова переходят в себя, англ слова в транскрипцию"
   ]
  },
  {
   "cell_type": "code",
   "execution_count": 21,
   "metadata": {},
   "outputs": [
    {
     "data": {
      "text/html": [
       "<div>\n",
       "<style scoped>\n",
       "    .dataframe tbody tr th:only-of-type {\n",
       "        vertical-align: middle;\n",
       "    }\n",
       "\n",
       "    .dataframe tbody tr th {\n",
       "        vertical-align: top;\n",
       "    }\n",
       "\n",
       "    .dataframe thead th {\n",
       "        text-align: right;\n",
       "    }\n",
       "</style>\n",
       "<table border=\"1\" class=\"dataframe\">\n",
       "  <thead>\n",
       "    <tr style=\"text-align: right;\">\n",
       "      <th></th>\n",
       "      <th>sentence_id</th>\n",
       "      <th>token_id</th>\n",
       "      <th>class</th>\n",
       "      <th>before</th>\n",
       "      <th>after</th>\n",
       "    </tr>\n",
       "  </thead>\n",
       "  <tbody>\n",
       "    <tr>\n",
       "      <th>53</th>\n",
       "      <td>3</td>\n",
       "      <td>17</td>\n",
       "      <td>ORDINAL</td>\n",
       "      <td>III</td>\n",
       "      <td>третьего</td>\n",
       "    </tr>\n",
       "    <tr>\n",
       "      <th>163</th>\n",
       "      <td>11</td>\n",
       "      <td>1</td>\n",
       "      <td>ORDINAL</td>\n",
       "      <td>1895</td>\n",
       "      <td>тысяча восемьсот девяносто пятом</td>\n",
       "    </tr>\n",
       "    <tr>\n",
       "      <th>164</th>\n",
       "      <td>11</td>\n",
       "      <td>2</td>\n",
       "      <td>ORDINAL</td>\n",
       "      <td>—1896</td>\n",
       "      <td>тысяча восемьсот девяносто шестом</td>\n",
       "    </tr>\n",
       "    <tr>\n",
       "      <th>485</th>\n",
       "      <td>35</td>\n",
       "      <td>5</td>\n",
       "      <td>ORDINAL</td>\n",
       "      <td>1796</td>\n",
       "      <td>тысяча семьсот девяносто шестого</td>\n",
       "    </tr>\n",
       "    <tr>\n",
       "      <th>487</th>\n",
       "      <td>35</td>\n",
       "      <td>7</td>\n",
       "      <td>ORDINAL</td>\n",
       "      <td>1802</td>\n",
       "      <td>тысяча восемьсот второй</td>\n",
       "    </tr>\n",
       "  </tbody>\n",
       "</table>\n",
       "</div>"
      ],
      "text/plain": [
       "     sentence_id  token_id    class before                              after\n",
       "53             3        17  ORDINAL    III                           третьего\n",
       "163           11         1  ORDINAL   1895   тысяча восемьсот девяносто пятом\n",
       "164           11         2  ORDINAL  —1896  тысяча восемьсот девяносто шестом\n",
       "485           35         5  ORDINAL   1796   тысяча семьсот девяносто шестого\n",
       "487           35         7  ORDINAL   1802            тысяча восемьсот второй"
      ]
     },
     "execution_count": 21,
     "metadata": {},
     "output_type": "execute_result"
    }
   ],
   "source": [
    "df_train[df_train['class'] == 'ORDINAL'].head()"
   ]
  },
  {
   "cell_type": "markdown",
   "metadata": {},
   "source": [
    "* ORDINAL состоит из арабских или римских чисел, переходят в слова"
   ]
  },
  {
   "cell_type": "markdown",
   "metadata": {},
   "source": [
    "Нормализация происходит так, чтобы Text-To-Speach системы могли произнести текст"
   ]
  },
  {
   "cell_type": "markdown",
   "metadata": {},
   "source": [
    "#### Пункт 2."
   ]
  },
  {
   "cell_type": "code",
   "execution_count": 22,
   "metadata": {},
   "outputs": [
    {
     "name": "stdout",
     "output_type": "stream",
     "text": [
      "PLAIN          \tBefore                        \tAfter                                                                                               \n",
      "               \tTiberius                      \tт_trans и_trans б_trans е_trans р_trans и_trans у_trans с_trans                                     \n",
      "\n",
      "PLAIN          \tBefore                        \tAfter                                                                                               \n",
      "               \tJulius                        \tд_trans ж_trans у_trans л_trans и_trans у_trans с_trans                                             \n",
      "\n",
      "PLAIN          \tBefore                        \tAfter                                                                                               \n",
      "               \tPollienus                     \tп_trans о_trans л_trans л_trans и_trans е_trans н_trans у_trans с_trans                             \n",
      "\n",
      "PLAIN          \tBefore                        \tAfter                                                                                               \n",
      "               \tAuspex                        \tо_trans с_trans п_trans е_trans к_trans с_trans                                                     \n",
      "\n",
      "PLAIN          \tBefore                        \tAfter                                                                                               \n",
      "               \tHalf                          \tх_trans а_trans л_trans ф_trans                                                                     \n",
      "\n",
      "PLAIN          \tBefore                        \tAfter                                                                                               \n",
      "               \tArmor                         \tа_trans р_trans м_trans о_trans р_trans                                                             \n",
      "\n",
      "PLAIN          \tBefore                        \tAfter                                                                                               \n",
      "               \tSbrinz                        \tс_trans б_trans р_trans и_trans н_trans с_trans                                                     \n",
      "\n",
      "PLAIN          \tBefore                        \tAfter                                                                                               \n",
      "               \tKase                          \tк_trans е_trans й_trans с_trans                                                                     \n",
      "\n",
      "PLAIN          \tBefore                        \tAfter                                                                                               \n",
      "               \tGmbH                          \tг_trans м_trans б_trans                                                                             \n",
      "\n",
      "PLAIN          \tBefore                        \tAfter                                                                                               \n",
      "               \tThe                           \tз_trans э_trans                                                                                     \n",
      "\n"
     ]
    }
   ],
   "source": [
    "MAX_SAMPLES = 10\n",
    "samples_counter = 0\n",
    "for i in range(df_train.shape[0]):\n",
    "    cls = df_train['class'][i]\n",
    "    before = df_train['before'][i]\n",
    "    after = df_train['after'][i]\n",
    "    if cls == 'PLAIN' and before != after:\n",
    "        print('%-15s\\t%-30s\\t%-100s' % (cls, 'Before', 'After'))\n",
    "        print('%-15s\\t%-30s\\t%-100s' % ('', df_train['before'][i], df_train['after'][i] ))\n",
    "        print()\n",
    "        samples_counter += 1\n",
    "    if samples_counter == MAX_SAMPLES:\n",
    "        break"
   ]
  },
  {
   "cell_type": "markdown",
   "metadata": {},
   "source": [
    "Класс PLAIN преобразуется, если слово написано не на русском языке. Тогда оно преобразуется посредством транслитерации"
   ]
  },
  {
   "cell_type": "markdown",
   "metadata": {},
   "source": [
    "#### Пункт 3."
   ]
  },
  {
   "cell_type": "code",
   "execution_count": 23,
   "metadata": {},
   "outputs": [
    {
     "name": "stdout",
     "output_type": "stream",
     "text": [
      "ORDINAL        \tBefore                        \tAfter                                                                                               \n",
      "               \tIII                           \tтретьего                                                                                            \n",
      "\n",
      "ORDINAL        \tBefore                        \tAfter                                                                                               \n",
      "               \t1895                          \tтысяча восемьсот девяносто пятом                                                                    \n",
      "\n",
      "ORDINAL        \tBefore                        \tAfter                                                                                               \n",
      "               \t—1896                         \tтысяча восемьсот девяносто шестом                                                                   \n",
      "\n",
      "ORDINAL        \tBefore                        \tAfter                                                                                               \n",
      "               \t1796                          \tтысяча семьсот девяносто шестого                                                                    \n",
      "\n",
      "ORDINAL        \tBefore                        \tAfter                                                                                               \n",
      "               \t1802                          \tтысяча восемьсот второй                                                                             \n",
      "\n",
      "ORDINAL        \tBefore                        \tAfter                                                                                               \n",
      "               \t1109                          \tтысяча сто девятого                                                                                 \n",
      "\n",
      "ORDINAL        \tBefore                        \tAfter                                                                                               \n",
      "               \t—1112                         \tтысяча сто двенадцатого                                                                             \n",
      "\n",
      "ORDINAL        \tBefore                        \tAfter                                                                                               \n",
      "               \t1-й                           \tпервый                                                                                              \n",
      "\n"
     ]
    }
   ],
   "source": [
    "MAX_SAMPLES = 50\n",
    "samples_counter = 0\n",
    "for i in range(df_train.shape[0]):\n",
    "    cls = df_train['class'][i]\n",
    "    before = df_train['before'][i]\n",
    "    after = df_train['after'][i]\n",
    "    if cls == 'ORDINAL' and before != after:\n",
    "        print('%-15s\\t%-30s\\t%-100s' % (cls, 'Before', 'After'))\n",
    "        print('%-15s\\t%-30s\\t%-100s' % ('', df_train['before'][i], df_train['after'][i] ))\n",
    "        print()\n",
    "        samples_counter += 1\n",
    "    if samples_counter == MAX_SAMPLES:\n",
    "        break"
   ]
  },
  {
   "cell_type": "markdown",
   "metadata": {},
   "source": [
    "*  Римские цифры переводятся в прилагательные (склонения мб зависят от контекста)\n",
    "\n",
    "*  Когда после числа стоит -й/-я/-е/-х/-му, число переходит в прилагательное отвечающее на вопрос \"который\"/\"которая\"/\"которые\"/\"в которых\"/\"которому\"\n",
    "\n",
    "*  Когда перед числом тире прилагательное отвечает на вопрос \"в каком\"\n",
    "\n",
    "*  Когда число не окружено ничем оно переходит либо в прилагательное в зависящем от контекста склонении, либо остается числом. Скорее всего тоже зависит от контекста."
   ]
  },
  {
   "cell_type": "markdown",
   "metadata": {},
   "source": [
    "## Часть 2. [6 баллов]  seq2seq архитектуры\n",
    "Имплементируйте несколько seq2seq архитектур. Энкодер получает на вход последовательность токенов before, декодер учится превращать их в токены after.\n",
    "Энкодер и декодер работают на уровне символов, эмбеддинги символов инициализируются случайно (по аналогии с работами, в которых предложены нейросетевые модели исправления опечаток).\n",
    "\n",
    "Эту часть задания рекомендуется выполнять с использованием allennlp (должно быть проще и удобнее).\n",
    "\n",
    "1. [3 балла] LSTM encoder + LSTM decoder + три механизма внимания: скалярное произведение, аддитивное внимание и мультипликативное внимание (см. лекцию 6, слайд \"подсчет весов attention\")\n",
    "2. [3 балла] Transformer\n",
    "\n",
    "Используя автопровереку kaggle, оцените, как влияют параметры архитектуры на качество задачи.\n",
    "\n",
    "[бонус] convolutional encoder + convolutional decoder\n",
    "\n",
    "[бонус] pyramid LSTM (размер l+1 слоя в два раз меньше размера l, i-тый вход l+1 слоя – конкатенация выходов 2i и 2i+1)"
   ]
  },
  {
   "cell_type": "code",
   "execution_count": 24,
   "metadata": {},
   "outputs": [],
   "source": [
    "from torch import nn\n",
    "import itertools\n",
    "\n",
    "import allennlp\n",
    "from allennlp.data.dataset_readers.seq2seq import Seq2SeqDatasetReader\n",
    "from allennlp.data.tokenizers.word_tokenizer import WordTokenizer\n",
    "from allennlp.data.tokenizers.character_tokenizer import CharacterTokenizer\n",
    "from allennlp.data.instance import Instance\n",
    "\n",
    "from allennlp.data.token_indexers import SingleIdTokenIndexer\n",
    "from allennlp.data.vocabulary import Vocabulary\n",
    "from allennlp.data.iterators import BucketIterator\n",
    "\n",
    "from allennlp.modules.text_field_embedders import BasicTextFieldEmbedder\n",
    "from allennlp.modules.token_embedders import Embedding\n",
    "from allennlp.modules.seq2seq_encoders.pytorch_seq2seq_wrapper import PytorchSeq2SeqWrapper\n",
    "from allennlp.models.encoder_decoders import SimpleSeq2Seq\n",
    "\n",
    "from allennlp.modules.attention.additive_attention import AdditiveAttention\n",
    "from allennlp.modules.attention.bilinear_attention import BilinearAttention\n",
    "from allennlp.modules.attention.dot_product_attention import DotProductAttention\n",
    "\n",
    "\n",
    "from allennlp.training.trainer import Trainer\n",
    "\n",
    "from allennlp.predictors import SimpleSeq2SeqPredictor\n",
    "\n",
    "from sklearn.model_selection import train_test_split"
   ]
  },
  {
   "cell_type": "code",
   "execution_count": 25,
   "metadata": {},
   "outputs": [],
   "source": [
    "ENCODER_HIDDEN_SIZE = 64\n",
    "HIDDEN_DIM = 32\n",
    "EMBEDDING_DIM = 256\n",
    "MAX_DECODING_STEPS = 50\n",
    "BATCH_SIZE=64\n",
    "N_EPOCHS = 5"
   ]
  },
  {
   "cell_type": "code",
   "execution_count": 26,
   "metadata": {},
   "outputs": [],
   "source": [
    "def prepare_simple_dataset(df, target_file_path):\n",
    "    data = pd.DataFrame(df[['before', 'after']].values)\n",
    "    data.to_csv(target_file_path, sep='\\t', index=False)\n",
    "\n",
    "df_train, df_test = train_test_split(df_train, test_size=0.3)\n",
    "prepare_simple_dataset(df_train, SIMPLE_DATA_TRAIN_PATH)\n",
    "prepare_simple_dataset(df_test, SIMPLE_DATA_TEST_PATH)"
   ]
  },
  {
   "cell_type": "code",
   "execution_count": 27,
   "metadata": {},
   "outputs": [],
   "source": [
    "import builtins\n",
    "import functools\n",
    "\n",
    "old_open = open\n",
    "uopen = functools.partial(open, encoding='utf8')\n",
    "builtins.open = uopen"
   ]
  },
  {
   "cell_type": "code",
   "execution_count": 28,
   "metadata": {
    "scrolled": true
   },
   "outputs": [
    {
     "name": "stderr",
     "output_type": "stream",
     "text": [
      "701it [00:00, 36993.04it/s]\n",
      "301it [00:00, 27523.72it/s]\n"
     ]
    }
   ],
   "source": [
    "reader = Seq2SeqDatasetReader(\n",
    "    source_tokenizer=CharacterTokenizer(),\n",
    "    target_tokenizer=CharacterTokenizer(),\n",
    "    source_token_indexers={'tokens': SingleIdTokenIndexer()},\n",
    "    target_token_indexers={'tokens': SingleIdTokenIndexer(namespace='target_tokens')})\n",
    "\n",
    "dataset_train = reader.read(SIMPLE_DATA_TRAIN_PATH)\n",
    "dataset_test = reader.read(SIMPLE_DATA_TEST_PATH)"
   ]
  },
  {
   "cell_type": "code",
   "execution_count": 29,
   "metadata": {},
   "outputs": [],
   "source": [
    "builtins.open = old_open"
   ]
  },
  {
   "cell_type": "code",
   "execution_count": 30,
   "metadata": {},
   "outputs": [
    {
     "name": "stderr",
     "output_type": "stream",
     "text": [
      "100%|███████████████████████████████████████████████████████████████████████████████████████████| 701/701 [00:00<00:00, 100423.77it/s]\n"
     ]
    }
   ],
   "source": [
    "vocab = Vocabulary.from_instances(dataset_train,\n",
    "                                      min_count={'tokens': 3, 'target_tokens': 3})\n",
    "\n",
    "embeddings = Embedding(num_embeddings=vocab.get_vocab_size('tokens'),\n",
    "                         embedding_dim=EMBEDDING_DIM)\n",
    "\n",
    "source_embedder = BasicTextFieldEmbedder({\"tokens\": embeddings})"
   ]
  },
  {
   "cell_type": "code",
   "execution_count": 31,
   "metadata": {},
   "outputs": [],
   "source": [
    "attentions = [None,\n",
    "              DotProductAttention(),\n",
    "              BilinearAttention(HIDDEN_DIM, HIDDEN_DIM),\n",
    "              AdditiveAttention(HIDDEN_DIM, HIDDEN_DIM)\n",
    "             ]"
   ]
  },
  {
   "cell_type": "code",
   "execution_count": 32,
   "metadata": {},
   "outputs": [],
   "source": [
    "def make_model(attention_layer=None, embed_dim=EMBEDDING_DIM, hidden_dim=HIDDEN_DIM):    \n",
    "    encoder = PytorchSeq2SeqWrapper(nn.LSTM(embed_dim, hidden_dim, batch_first=True))\n",
    "\n",
    "    model = SimpleSeq2Seq(vocab, source_embedder, encoder, MAX_DECODING_STEPS,\n",
    "                              target_embedding_dim=embed_dim,\n",
    "                              target_namespace='target_tokens',\n",
    "                              attention=attention_layer)\n",
    "    return model\n",
    "\n",
    "models = [make_model(att) for att in attentions]\n",
    "optimizers = [torch.optim.Adam(model.parameters()) for model in models]"
   ]
  },
  {
   "cell_type": "code",
   "execution_count": 33,
   "metadata": {},
   "outputs": [
    {
     "name": "stderr",
     "output_type": "stream",
     "text": [
      "You provided a validation dataset but patience was set to None, meaning that early stopping is disabled\n",
      "You provided a validation dataset but patience was set to None, meaning that early stopping is disabled\n",
      "You provided a validation dataset but patience was set to None, meaning that early stopping is disabled\n",
      "You provided a validation dataset but patience was set to None, meaning that early stopping is disabled\n"
     ]
    }
   ],
   "source": [
    "iterator = BucketIterator(batch_size=BATCH_SIZE, sorting_keys=[(\"source_tokens\", \"num_tokens\")])\n",
    "iterator.index_with(vocab)\n",
    "\n",
    "trainers = [Trainer(model=model,\n",
    "                  optimizer=optimizer,\n",
    "                  iterator=iterator,\n",
    "                  train_dataset=dataset_train,\n",
    "                  validation_dataset=dataset_test,\n",
    "                  num_epochs=1,\n",
    "                  cuda_device=0) for (model, optimizer) in zip(models, optimizers)]"
   ]
  },
  {
   "cell_type": "code",
   "execution_count": 49,
   "metadata": {},
   "outputs": [],
   "source": [
    "from IPython.display import clear_output\n",
    "\n",
    "\n",
    "def train(model, trainer, epochs=N_EPOCHS, reader=reader, clear_out=True):\n",
    "    model.cuda()\n",
    "    def tokens2text(tokens, start=0, end=None):\n",
    "        tokens = list(tokens)\n",
    "        end = len(tokens) if end is None else end\n",
    "        tokens = tokens[start:end]\n",
    "        text = map(str, tokens)\n",
    "        text = ''.join(text)\n",
    "        return text\n",
    "    \n",
    "    for i in range(epochs):\n",
    "        predictor = SimpleSeq2SeqPredictor(model, reader)\n",
    "        if clear_out:\n",
    "            clear_output()\n",
    "        trainer.train()\n",
    "\n",
    "        predictor = SimpleSeq2SeqPredictor(model, reader)\n",
    "        print('Epoch %d' % i)\n",
    "        print('%-30s\\t%-30s\\t%-30s' % ('Before', 'True After', 'Pred After'))\n",
    "        for instance in itertools.islice(dataset_test, 20):\n",
    "            x_data = list(instance.fields['source_tokens'].tokens)\n",
    "            y_true = instance.fields['target_tokens'].tokens\n",
    "            y_pred = predictor.predict_instance(instance)['predicted_tokens']\n",
    "            \n",
    "            print('%-30s\\t%-30s\\t%-30s' % (tokens2text(x_data, 1, -1),\n",
    "                                           tokens2text(y_true, 1, -1),\n",
    "                                           tokens2text(y_pred)))\n",
    "    model.cpu()"
   ]
  },
  {
   "cell_type": "code",
   "execution_count": 50,
   "metadata": {},
   "outputs": [],
   "source": [
    "model_ind = 0"
   ]
  },
  {
   "cell_type": "code",
   "execution_count": 51,
   "metadata": {},
   "outputs": [
    {
     "name": "stderr",
     "output_type": "stream",
     "text": [
      "loss: 2.3148 ||: 100%|████████████████████████████████████████████████████████████████████████████████| 11/11 [00:00<00:00, 14.15it/s]\n",
      "BLEU: 0.0000, loss: 2.3816 ||: 100%|████████████████████████████████████████████████████████████████████| 5/5 [00:00<00:00,  5.38it/s]\n"
     ]
    },
    {
     "name": "stdout",
     "output_type": "stream",
     "text": [
      "Epoch 4\n",
      "Before                        \tTrue After                    \tPred After                    \n",
      "0                             \t1                             \t.                             \n",
      "по                            \tпо                            \tв                             \n",
      ".                             \t.                             \t.                             \n",
      "Дик                           \tДик                           \t.                             \n",
      ".                             \t.                             \t.                             \n",
      "и                             \tи                             \tв                             \n",
      "они                           \tони                           \tи                             \n",
      "успешно                       \tуспешно                       \tи                             \n",
      "конце                         \tконце                         \tи                             \n",
      "перерастать                   \tперерастать                   \tи                             \n",
      "журналом                      \tжурналом                      \tосто                          \n",
      "рассмотрение                  \tрассмотрение                  \tи                             \n",
      "черепахи                      \tчерепахи                      \tосто                          \n",
      "желтоватая                    \tжелтоватая                    \tосто                          \n",
      "числе                         \tчисле                         \tи                             \n",
      "августе                       \tавгусте                       \tи                             \n",
      ")                             \t)                             \t.                             \n",
      "пилоты                        \tпилоты                        \tосто                          \n",
      "К                             \tК                             \t.                             \n",
      "Окружносеть                   \tОкружносеть                   \t.                             \n"
     ]
    }
   ],
   "source": [
    "print('Training model with attention:', attentions[ind].__class__)\n",
    "train(models[model_ind], trainers[model_ind])\n",
    "gc.collect()\n",
    "torch.cuda.empty_cache()\n",
    "\n",
    "model_ind += 1"
   ]
  },
  {
   "cell_type": "code",
   "execution_count": 53,
   "metadata": {},
   "outputs": [
    {
     "name": "stderr",
     "output_type": "stream",
     "text": [
      "loss: 2.9318 ||: 100%|████████████████████████████████████████████████████████████████████████████████| 11/11 [00:01<00:00,  7.25it/s]\n",
      "BLEU: 0.0000, loss: 2.9531 ||: 100%|████████████████████████████████████████████████████████████████████| 5/5 [00:00<00:00,  4.92it/s]\n"
     ]
    },
    {
     "name": "stdout",
     "output_type": "stream",
     "text": [
      "Epoch 4\n",
      "Before                        \tTrue After                    \tPred After                    \n",
      "0                             \t1                             \t                              \n",
      "по                            \tпо                            \t                              \n",
      ".                             \t.                             \t                              \n",
      "Дик                           \tДик                           \t                              \n",
      ".                             \t.                             \t                              \n",
      "и                             \tи                             \t                              \n",
      "они                           \tони                           \t                              \n",
      "успешно                       \tуспешно                       \t                              \n",
      "конце                         \tконце                         \t                              \n",
      "перерастать                   \tперерастать                   \t                              \n",
      "журналом                      \tжурналом                      \t                              \n",
      "рассмотрение                  \tрассмотрение                  \t                              \n",
      "черепахи                      \tчерепахи                      \t                              \n",
      "желтоватая                    \tжелтоватая                    \t                              \n",
      "числе                         \tчисле                         \t                              \n",
      "августе                       \tавгусте                       \t                              \n",
      ")                             \t)                             \t                              \n",
      "пилоты                        \tпилоты                        \t                              \n",
      "К                             \tК                             \t                              \n",
      "Окружносеть                   \tОкружносеть                   \t                              \n"
     ]
    }
   ],
   "source": [
    "print('Training model with attention:', attentions[ind].__class__)\n",
    "train(models[model_ind], trainers[model_ind])\n",
    "model_ind += 1"
   ]
  },
  {
   "cell_type": "code",
   "execution_count": 54,
   "metadata": {},
   "outputs": [
    {
     "name": "stderr",
     "output_type": "stream",
     "text": [
      "loss: 2.9402 ||: 100%|████████████████████████████████████████████████████████████████████████████████| 11/11 [00:01<00:00,  6.71it/s]\n",
      "BLEU: 0.0004, loss: 2.9586 ||: 100%|████████████████████████████████████████████████████████████████████| 5/5 [00:00<00:00,  4.79it/s]\n"
     ]
    },
    {
     "name": "stdout",
     "output_type": "stream",
     "text": [
      "Epoch 4\n",
      "Before                        \tTrue After                    \tPred After                    \n",
      "0                             \t1                             \tв                             \n",
      "по                            \tпо                            \tв                             \n",
      ".                             \t.                             \tв                             \n",
      "Дик                           \tДик                           \tв                             \n",
      ".                             \t.                             \tв                             \n",
      "и                             \tи                             \tв                             \n",
      "они                           \tони                           \tв                             \n",
      "успешно                       \tуспешно                       \tв                             \n",
      "конце                         \tконце                         \tв                             \n",
      "перерастать                   \tперерастать                   \tв                             \n",
      "журналом                      \tжурналом                      \tв                             \n",
      "рассмотрение                  \tрассмотрение                  \tв                             \n",
      "черепахи                      \tчерепахи                      \tв                             \n",
      "желтоватая                    \tжелтоватая                    \tв                             \n",
      "числе                         \tчисле                         \tв                             \n",
      "августе                       \tавгусте                       \tв                             \n",
      ")                             \t)                             \tв                             \n",
      "пилоты                        \tпилоты                        \tв                             \n",
      "К                             \tК                             \tв                             \n",
      "Окружносеть                   \tОкружносеть                   \tв                             \n"
     ]
    }
   ],
   "source": [
    "print('Training model with attention:', attentions[ind].__class__)\n",
    "train(models[model_ind], trainers[model_ind])\n",
    "model_ind += 1"
   ]
  },
  {
   "cell_type": "code",
   "execution_count": 55,
   "metadata": {},
   "outputs": [
    {
     "name": "stdout",
     "output_type": "stream",
     "text": [
      "Training model with attention: <class 'allennlp.modules.attention.bilinear_attention.BilinearAttention'>\n"
     ]
    },
    {
     "ename": "IndexError",
     "evalue": "list index out of range",
     "output_type": "error",
     "traceback": [
      "\u001b[1;31m---------------------------------------------------------------------------\u001b[0m",
      "\u001b[1;31mIndexError\u001b[0m                                Traceback (most recent call last)",
      "\u001b[1;32m<ipython-input-55-23583ae740c3>\u001b[0m in \u001b[0;36m<module>\u001b[1;34m\u001b[0m\n\u001b[0;32m      1\u001b[0m \u001b[0mprint\u001b[0m\u001b[1;33m(\u001b[0m\u001b[1;34m'Training model with attention:'\u001b[0m\u001b[1;33m,\u001b[0m \u001b[0mattentions\u001b[0m\u001b[1;33m[\u001b[0m\u001b[0mind\u001b[0m\u001b[1;33m]\u001b[0m\u001b[1;33m.\u001b[0m\u001b[0m__class__\u001b[0m\u001b[1;33m)\u001b[0m\u001b[1;33m\u001b[0m\u001b[1;33m\u001b[0m\u001b[0m\n\u001b[1;32m----> 2\u001b[1;33m \u001b[0mtrain\u001b[0m\u001b[1;33m(\u001b[0m\u001b[0mmodels\u001b[0m\u001b[1;33m[\u001b[0m\u001b[0mmodel_ind\u001b[0m\u001b[1;33m]\u001b[0m\u001b[1;33m,\u001b[0m \u001b[0mtrainers\u001b[0m\u001b[1;33m[\u001b[0m\u001b[0mmodel_ind\u001b[0m\u001b[1;33m]\u001b[0m\u001b[1;33m)\u001b[0m\u001b[1;33m\u001b[0m\u001b[1;33m\u001b[0m\u001b[0m\n\u001b[0m\u001b[0;32m      3\u001b[0m \u001b[0mmodel_ind\u001b[0m \u001b[1;33m+=\u001b[0m \u001b[1;36m1\u001b[0m\u001b[1;33m\u001b[0m\u001b[1;33m\u001b[0m\u001b[0m\n",
      "\u001b[1;31mIndexError\u001b[0m: list index out of range"
     ]
    }
   ],
   "source": [
    "print('Training model with attention:', attentions[ind].__class__)\n",
    "train(models[model_ind], trainers[model_ind])\n",
    "model_ind += 1"
   ]
  },
  {
   "cell_type": "code",
   "execution_count": null,
   "metadata": {},
   "outputs": [],
   "source": []
  },
  {
   "cell_type": "markdown",
   "metadata": {},
   "source": [
    "## Часть 3. [2 балла]  Дополнительные признаки\n",
    "Предложите и покажите, как можно было бы повысить качество нейросетевых моделей. Примерные варианты:\n",
    "1. ансамблирование нейронных сетей\n",
    "2. добавление морфологоческих признаков \n",
    "3. использование эмбеддингов слов \n"
   ]
  },
  {
   "cell_type": "markdown",
   "metadata": {},
   "source": [
    "## Часть 4. [1 балл] Итоги\n",
    "Напишите краткое резюме проделанной работы. Проведите анализ ошибок: когда модель ошибается? Можно ли скзаать, почему модель ошибается? Сравните результаты всех разработанных моделей. Что помогло вам в выполнении работы, чего не хватало?"
   ]
  }
 ],
 "metadata": {
  "kernelspec": {
   "display_name": "Python 3",
   "language": "python",
   "name": "python3"
  },
  "language_info": {
   "codemirror_mode": {
    "name": "ipython",
    "version": 3
   },
   "file_extension": ".py",
   "mimetype": "text/x-python",
   "name": "python",
   "nbconvert_exporter": "python",
   "pygments_lexer": "ipython3",
   "version": "3.6.8"
  }
 },
 "nbformat": 4,
 "nbformat_minor": 4
}
