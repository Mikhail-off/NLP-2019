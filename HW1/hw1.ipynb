{
 "cells": [
  {
   "cell_type": "markdown",
   "metadata": {},
   "source": [
    "# Домашнее задание 1\n",
    "## Harry Potter and the Action Prediction Challenge from Natural Language\n",
    "\n",
    "*deadline*: 2 октября 2019, 23:59\n",
    "\n",
    "В этом домашнем задании вы будете работать с корпусом Harry Potter and the Action Prediction Challenge. Корпус собран из фанфиков о Гарри Поттере и состоит из двух частей: 1) сырые тексты, 2) фрагменты текстов, описывающих ситуацию, в которой произнесено заклинание.\n",
    "\n",
    "Корпус описан в статье: https://arxiv.org/pdf/1905.11037.pdf\n",
    "\n",
    "David Vilares and Carlos Gómez-Rodríguez. Harry Potter and the Action Prediction Challenge from Natural Language. 2019 Annual Conference of the North American Chapter of the Association for Computational Linguistics. To appear.\n",
    "\n",
    "Код для сбора корпуса находится в репозитории: https://github.com/aghie/hpac . Корпус можно скачать по инструкции из этого репозитория, но для экономии времени авторы задания уже скачали и подготовили данные к работе. \n",
    "\n",
    "Ссылки на собранный корпус: \n",
    "* Сырые тексты:  https://www.dropbox.com/s/23xet9kvbqna1qs/hpac_raw.zip?dl=0\n",
    "* Токенизированные тексты в нижнем регистре: https://www.dropbox.com/s/gwfgmomdbetvdye/hpac_lower_tokenized.zip?dl=0\n",
    "* train-test-dev: https://www.dropbox.com/s/3vdz0mouvex8abd/hpac_splits.zip?dl=0\n",
    "\n",
    "Части 1, 2 задания должны быть выполнены на полных текстах (сырых или предобработанных -- на ваше усмотрение), Часть 3 – на разбиение на тестовое, отладочное и обучающее множества. Тестовое множество должно быть использовано исключительно для тестирования моделей, обучающее и отладочное – для выбора модели и параметров. \n",
    "\n",
    "В статье и репозитории вы найдете идеи, которые помогут вам выполнить домашнее задание. Их стоит воспринимать как руководство к действию, и не стоит их копировать и переиспользовать. Обученные модели использовать не нужно, код для их обучения можно использовать как подсказку. \n",
    "\n",
    "## ПРАВИЛА\n",
    "1. Домашнее задание выполняется в группе до 3-х человек.\n",
    "2. Домашнее задание сдается через anytask, инвайты будут дополнительно высланы.\n",
    "3. Домашнее задание оформляется в виде отчета либо в .pdf файле, либо ipython-тетрадке. \n",
    "4. Отчет должен содержать: нумерацию заданий и пунктов, которые вы выполнили, код решения, и понятное пошаговое описание того, что вы сделали. Отчет должен быть написан в академическом стиле, без излишнего использования сленга и с соблюдением норм русского языка.\n",
    "5. Не стоит копировать фрагменты лекций, статей и Википедии в ваш отчет.\n",
    "6. Отчеты, состоящие исключительно из кода, не будут проверены и будут автоматически оценены нулевой оценкой.\n",
    "7. Плагиат и любое недобросоветсное цитирование приводит к обнуление оценки. \n",
    "\n",
    "\n",
    "## Часть 1. [2 балла] Эксплоративный анализ \n",
    "1. Найдите топ-1000 слов по частоте без учета стоп-слов.\n",
    "2. Найдите топ-10 по частоте: имен, пар имя + фамилия, пар вида ''профессор'' + имя / фамилия. \n",
    "\n",
    "[бонус] Постройте тематическую модель по корпусу HPAC.\n",
    "\n",
    "[бонус] Найдите еще что-то интересное в корпусе (что-то специфичное для фанфиков или фентези-тематики)\n",
    "\n",
    "## Часть 2. [2 балла] Модели представления слов \n",
    "Обучите модель представления слов (word2vec, GloVe, fastText или любую другую) на материале корпуса HPAC.\n",
    "1. Продемонстрируйте, как работает поиск синонимов, ассоциаций, лишних слов в обученной модели. \n",
    "2. Визуализируйте топ-1000 слов по частоте без учета стоп-слов (п. 1.1) с помощью TSNE или UMAP (https://umap-learn.readthedocs.io).\n",
    "\n",
    "## Часть 3. [5 баллов] Классификация текстов\n",
    "Задача классификации формулируется так: данный фрагмент фанфика описывают какую-то ситуацию, которая предшествует произнесению заклинания. Требуется по тексту предсказать, какое именно заклинание будет произнесено. Таким образом, заклинание - это фактически метка класса. Основная мера качества – macro $F_1$.\n",
    "Обучите несколько классификаторов и сравните их между собой. Оцените качество классификаторов на частых и редких классах. Какие классы чаще всего оказываются перепутаны? Связаны ли ошибки со смыслом заклинаний?\n",
    "\n",
    "Используйте фрагменты из множества train для обучения, из множества dev для отладки, из множества test – для тестирования и получения итоговых результатов. \n",
    "\n",
    "1. [1 балл] Используйте fastText в качестве baseline-классификатора.\n",
    "2. [2 балла] Используйте сверточные сети в качестве более продвинутого классификатора. Поэкспериментируйте с количеством и размерностью фильтров, используйте разные размеры окон, попробуйте использовать $k$-max pooling. \n",
    "3. [2 балла] Попробуйте расширить обучающее множество за счет аугментации данных. Если вам понадобится словарь синонимов, можно использовать WordNet (ниже вы найдете примеры).\n",
    "\n",
    "[бонус] Используйте результат max pooling'а как эмбеддинг входного текста. Визуализируйте эмбеддинги 500-1000 предложений из обучающего множества и изучите свойства получившегося пространства.\n",
    "\n",
    "[бонус] Используйте ваш любимый классификатор и любые (честные) способы повышения качества классификации и получите macro $F_1$ больше 0.5.\n",
    "\n",
    "## Часть 4. [1 балл] Итоги\n",
    "Напишите краткое резюме проделанной работы. Читали ли вы сами Гарри Поттера или фанфики о нем и помогло ли вам знание предметной области в выполнении домашнего задания?"
   ]
  },
  {
   "cell_type": "markdown",
   "metadata": {},
   "source": [
    "# Часть 2"
   ]
  },
  {
   "cell_type": "code",
   "execution_count": 1,
   "metadata": {},
   "outputs": [
    {
     "name": "stderr",
     "output_type": "stream",
     "text": [
      "[nltk_data] Downloading package punkt to\n",
      "[nltk_data]     C:\\Users\\nikitos\\AppData\\Roaming\\nltk_data...\n",
      "[nltk_data]   Package punkt is already up-to-date!\n"
     ]
    }
   ],
   "source": [
    "import pickle\n",
    "import nltk\n",
    "import re\n",
    "import os\n",
    "from tqdm import tqdm as tqdm\n",
    "import gc\n",
    "nltk.download('punkt')\n",
    "\n",
    "\n",
    "SENTS_FILE_NAME = 'sents_source.pickle'"
   ]
  },
  {
   "cell_type": "code",
   "execution_count": 2,
   "metadata": {},
   "outputs": [],
   "source": [
    "def load_text_from_file(name):\n",
    "    with open(name, 'r') as f:\n",
    "        return f.readlines()\n",
    "\n",
    "def split_text_into_sent(text):\n",
    "    return nltk.sent_tokenize(text)\n",
    "        \n",
    "def split_file_into_sent(name, save_file_name=''):\n",
    "    lines = load_text_from_file(name)\n",
    "    sents = []\n",
    "    for line in lines:\n",
    "        sents += split_text_into_sent(line)\n",
    "    if save_file_name != '':\n",
    "        with open(save_file_name, 'wb') as f:\n",
    "            pickle.dump(sents, f)\n",
    "    return sents\n",
    "\n",
    "def split_files_in_dir_into_sent(dir_name, save_file_name=''):\n",
    "    sents = []\n",
    "    for file_name in tqdm(os.listdir(dir_name)):\n",
    "        try:\n",
    "            sents += split_file_into_sent(os.path.join(dir_name, file_name))\n",
    "        except Exception as e:\n",
    "            print('-------------------------')\n",
    "            print(file_name)\n",
    "            print(repr(e))\n",
    "            print('-------------------------')\n",
    "            \n",
    "    if save_file_name != '':\n",
    "        with open(save_file_name, 'wb') as f:\n",
    "            pickle.dump(sents, f)\n",
    "    return sents\n",
    "sents = None"
   ]
  },
  {
   "cell_type": "code",
   "execution_count": 3,
   "metadata": {},
   "outputs": [
    {
     "data": {
      "text/plain": [
       "\"\\nif os.path.exists(SENTS_FILE_NAME) and os.path.isfile(SENTS_FILE_NAME):\\n    with open(SENTS_FILE_NAME, 'rb') as f:\\n        sents = pickle.load(f)\\nelse:\\n    sents = split_files_in_dir_into_sent(dir_name='hpac_source/', save_file_name='sents_source.pickle')\\n\""
      ]
     },
     "execution_count": 3,
     "metadata": {},
     "output_type": "execute_result"
    }
   ],
   "source": [
    "\"\"\"\n",
    "if os.path.exists(SENTS_FILE_NAME) and os.path.isfile(SENTS_FILE_NAME):\n",
    "    with open(SENTS_FILE_NAME, 'rb') as f:\n",
    "        sents = pickle.load(f)\n",
    "else:\n",
    "    sents = split_files_in_dir_into_sent(dir_name='hpac_source/', save_file_name='sents_source.pickle')\n",
    "\"\"\""
   ]
  },
  {
   "cell_type": "code",
   "execution_count": 4,
   "metadata": {},
   "outputs": [
    {
     "data": {
      "text/plain": [
       "5"
      ]
     },
     "execution_count": 4,
     "metadata": {},
     "output_type": "execute_result"
    }
   ],
   "source": [
    "sents = None\n",
    "gc.collect()"
   ]
  },
  {
   "cell_type": "markdown",
   "metadata": {},
   "source": [
    "# Часть 3"
   ]
  },
  {
   "cell_type": "markdown",
   "metadata": {},
   "source": [
    "Объявим имена файлов. Первые 3 файла -- датасеты. Остальные файлы для быстрого запуска ячеек. \"Запикленные\" переменные"
   ]
  },
  {
   "cell_type": "code",
   "execution_count": 5,
   "metadata": {},
   "outputs": [],
   "source": [
    "import numpy as np\n",
    "import pandas as pd\n",
    "from nltk.tokenize import RegexpTokenizer\n",
    "from unidecode import unidecode\n",
    "import pymorphy2\n",
    "\n",
    "TRAIN_MARKUP_NAME = 'hpac_corpus/hpac_training_128.tsv'\n",
    "DEV_MARKUP_NAME = 'hpac_corpus/hpac_dev_128.tsv'\n",
    "TEST_MARKUP_NAME = 'hpac_corpus/hpac_test_128.tsv'\n",
    "FASTTEXT_TRAIN_NAME = 'FastText/train.txt'\n",
    "FASTTEXT_TEST_NAME = 'FastText/test.txt'\n",
    "FASTTEXT_DEV_NAME = 'FastText/dev.txt'\n",
    "FASTTEXT_EMBEDDING_NAME = 'FastText/embedding.txt'\n",
    "TRAIN_BACKUP_NAME = 'backup/train.pickle'\n",
    "DEV_BACKUP_NAME = 'backup/dev.pickle'\n",
    "TEST_BACKUP_NAME = 'backup/test.pickle'\n",
    "EMBEDDER_BACKUP_NAME = 'backup/embedder.pickle'\n",
    "FASTTEXT_BACKUP_MODEL_NAME = 'backup/fasttext_model.pickle'\n",
    "\n",
    "m = pymorphy2.MorphAnalyzer()\n",
    "\n",
    "regex = re.compile(\"[A-Za-z:=!\\)\\()\\_\\%/|]+\")"
   ]
  },
  {
   "cell_type": "markdown",
   "metadata": {},
   "source": [
    "Напишем функцию, которая очищает текст от всяких знаков и оставляет только текст"
   ]
  },
  {
   "cell_type": "code",
   "execution_count": 6,
   "metadata": {},
   "outputs": [],
   "source": [
    "def words_only(text, regex=regex):\n",
    "    try:\n",
    "        return regex.findall(text)\n",
    "    except:\n",
    "        return []\n",
    "    \n",
    "def lemmatize(text, pymorphy=m):\n",
    "    try:\n",
    "        return \" \".join([pymorphy.parse(w)[0].normal_form for w in text])\n",
    "    except:\n",
    "        return \" \"\n",
    "    \n",
    "def clean_text(text):\n",
    "    return lemmatize(words_only(text))"
   ]
  },
  {
   "cell_type": "markdown",
   "metadata": {},
   "source": [
    "Для удобства реализуем класс, который считывает разметку. Разметка -- текст и его метка (заклинание)"
   ]
  },
  {
   "cell_type": "code",
   "execution_count": 7,
   "metadata": {},
   "outputs": [],
   "source": [
    "class ClassifiedObject:\n",
    "    def __init__(self):\n",
    "        self.class_name = None\n",
    "        self.id = None\n",
    "        self.text = None\n",
    "        self.embedding = None\n",
    "    \n",
    "class MarkupReader:\n",
    "    def __init__(self, file_path):\n",
    "        self.__class_name_to_id = dict()\n",
    "        self.__id_to_class_name = dict()\n",
    "        self._read_markup(file_path)\n",
    "    \n",
    "    def _read_markup(self, file_path):\n",
    "        self.__df = pd.read_csv(file_path, sep='\\t', header=None, encoding='utf-8')\n",
    "        self.__df.columns = ['Garbage', 'ClassName', 'Text']\n",
    "        #self.__df['ClassName'].str.encode('utf-8')\n",
    "        self.__df['Text'] = self.__df['Text'].map(unidecode)\n",
    "        self.__df['Text'] = self.__df['Text'].map(clean_text)\n",
    "        class_names_set = set(list(self.__df['ClassName'].values))\n",
    "        for i, class_name in enumerate(class_names_set):\n",
    "            self.__class_name_to_id[class_name] = i\n",
    "            self.__id_to_class_name[id] = class_name\n",
    "    \n",
    "    def get_object_count(self):\n",
    "        assert self.__df is not None\n",
    "        return len(self.__df)\n",
    "    \n",
    "    def get_class_count(self):\n",
    "        return len(self.__class_name_to_id)\n",
    "    \n",
    "    def get_object(self, index):\n",
    "        assert self.__df is not None\n",
    "\n",
    "        obj = ClassifiedObject()\n",
    "        obj.class_name = self.__df['ClassName'].values[index]\n",
    "        obj.id = self.__class_name_to_id[obj.class_name]\n",
    "        obj.text = self.__df['Text'].values[index]\n",
    "        return obj\n",
    "        \n",
    "    def make_fasttext_dataset(self, file_name):\n",
    "        assert self.__df is not None\n",
    "        f = open(file_name, 'w')\n",
    "        for i in tqdm(range(self.get_object_count())):\n",
    "            obj = self.get_object(i)\n",
    "            line = '__label__' + obj.class_name + ' '\n",
    "            line = line + obj.text + '\\n'\n",
    "            f.write(line)\n",
    "        f.close()\n",
    "        \n",
    "    def get_text_array(self):\n",
    "        return self.__df['Text'].values\n",
    "        \n",
    "    def get_label_array(self):\n",
    "        return self.__df['ClassName'].values"
   ]
  },
  {
   "cell_type": "markdown",
   "metadata": {},
   "source": [
    "Напишем функцию, которая подгружает переменную из файла backup_name"
   ]
  },
  {
   "cell_type": "code",
   "execution_count": 8,
   "metadata": {},
   "outputs": [],
   "source": [
    "def get_backup(backup_name):\n",
    "    if os.path.exists(backup_name) and os.path.isfile(backup_name):\n",
    "        print('Found backup')\n",
    "        with open(backup_name, 'rb') as f:\n",
    "            return pickle.load(f)\n",
    "    return None"
   ]
  },
  {
   "cell_type": "markdown",
   "metadata": {},
   "source": [
    "Считываем разметку датасетов или, если есть откуда \"пиклиться\", то подргужаемся оттуда"
   ]
  },
  {
   "cell_type": "code",
   "execution_count": 9,
   "metadata": {},
   "outputs": [
    {
     "name": "stdout",
     "output_type": "stream",
     "text": [
      "Found backup\n",
      "Found backup\n",
      "Found backup\n"
     ]
    }
   ],
   "source": [
    "def read_markup(file_name, backup_name):\n",
    "    markup = get_backup(backup_name)\n",
    "    if markup is not None:\n",
    "        return markup\n",
    "    markup = MarkupReader(file_name)\n",
    "    with open(backup_name, 'wb') as f:\n",
    "        pickle.dump(markup, f)\n",
    "    print('Processed and saved')\n",
    "    return markup\n",
    "\n",
    "dev_markup = read_markup(DEV_MARKUP_NAME, DEV_BACKUP_NAME)\n",
    "test_markup = read_markup(TEST_MARKUP_NAME, TEST_BACKUP_NAME)\n",
    "train_markup= read_markup(TRAIN_MARKUP_NAME, TRAIN_BACKUP_NAME)"
   ]
  },
  {
   "cell_type": "code",
   "execution_count": 10,
   "metadata": {},
   "outputs": [],
   "source": [
    "import fasttext"
   ]
  },
  {
   "cell_type": "markdown",
   "metadata": {},
   "source": [
    "Создаем датасеты для fasttext. Их мы каждый раз считаем, потому что делается это быстро"
   ]
  },
  {
   "cell_type": "code",
   "execution_count": 11,
   "metadata": {},
   "outputs": [
    {
     "name": "stderr",
     "output_type": "stream",
     "text": [
      "100%|█████████████████████████████████████████████████████████████████████████████████████████████| 7605/7605 [00:00<00:00, 72597.85it/s]\n",
      "100%|███████████████████████████████████████████████████████████████████████████████████████████| 60980/60980 [00:00<00:00, 80885.59it/s]\n",
      "100%|█████████████████████████████████████████████████████████████████████████████████████████████| 7679/7679 [00:00<00:00, 83261.11it/s]\n"
     ]
    }
   ],
   "source": [
    "dev_markup.make_fasttext_dataset(FASTTEXT_DEV_NAME)\n",
    "train_markup.make_fasttext_dataset(FASTTEXT_TRAIN_NAME)\n",
    "test_markup.make_fasttext_dataset(FASTTEXT_TEST_NAME)"
   ]
  },
  {
   "cell_type": "markdown",
   "metadata": {},
   "source": [
    "Обучим модель классификации fasttext"
   ]
  },
  {
   "cell_type": "code",
   "execution_count": 12,
   "metadata": {},
   "outputs": [],
   "source": [
    "def train_fasttext_model():\n",
    "    if os.path.exists(FASTTEXT_BACKUP_MODEL_NAME) and os.path.isfile(FASTTEXT_BACKUP_MODEL_NAME):\n",
    "        print('Found backup')\n",
    "        return fasttext.load_model(FASTTEXT_BACKUP_MODEL_NAME)\n",
    "    \n",
    "    model = fasttext.train_supervised(FASTTEXT_TRAIN_NAME, label_prefix='__label__', epoch=200)\n",
    "    model.save_model(FASTTEXT_BACKUP_MODEL_NAME)\n",
    "    return model\n",
    "fasttext_model = train_fasttext_model()"
   ]
  },
  {
   "cell_type": "markdown",
   "metadata": {},
   "source": [
    "Получим метки классов"
   ]
  },
  {
   "cell_type": "code",
   "execution_count": 13,
   "metadata": {},
   "outputs": [],
   "source": [
    "fasttext_prediction = fasttext_model.predict(test_markup.get_text_array().tolist())\n",
    "fasttext_prediction = [pred[0] for pred in fasttext_prediction[0]]\n",
    "fasttext_prediction = [s[len('__label__'):] for s in fasttext_prediction]"
   ]
  },
  {
   "cell_type": "markdown",
   "metadata": {},
   "source": [
    "Напишем функцию для подсчета метрики $F_1$"
   ]
  },
  {
   "cell_type": "code",
   "execution_count": 14,
   "metadata": {},
   "outputs": [],
   "source": [
    "from sklearn.metrics import f1_score\n",
    "\n",
    "def calculate_f1(y_true, y_pred):\n",
    "    return f1_score(y_true=y_true, y_pred=y_pred, average='macro')"
   ]
  },
  {
   "cell_type": "code",
   "execution_count": 15,
   "metadata": {},
   "outputs": [
    {
     "name": "stderr",
     "output_type": "stream",
     "text": [
      "C:\\Users\\nikitos\\Anaconda3\\lib\\site-packages\\sklearn\\metrics\\classification.py:1143: UndefinedMetricWarning: F-score is ill-defined and being set to 0.0 in labels with no predicted samples.\n",
      "  'precision', 'predicted', average, warn_for)\n"
     ]
    },
    {
     "name": "stdout",
     "output_type": "stream",
     "text": [
      "0.14389501515831182\n"
     ]
    }
   ],
   "source": [
    "print(calculate_f1(y_true=test_markup.get_label_array(), y_pred=fasttext_prediction))"
   ]
  },
  {
   "cell_type": "markdown",
   "metadata": {},
   "source": [
    "Обучим эмбеддинги fasttext(зачем непонятно, но обучим). Если уже учили, то \"пиклимся\""
   ]
  },
  {
   "cell_type": "code",
   "execution_count": 16,
   "metadata": {},
   "outputs": [],
   "source": [
    "def train_embeddings(clean_texts, file_name, minn=3, maxn=4, dim=300):\n",
    "    if os.path.exists(EMBEDDER_BACKUP_NAME) and os.path.isfile(EMBEDDER_BACKUP_NAME):\n",
    "        print('Found backup')\n",
    "        return fasttext.load_model(EMBEDDER_BACKUP_NAME)\n",
    "    \n",
    "    with open(file_name, 'w') as f:\n",
    "        f.write('\\n'.join(clean_texts))\n",
    "    embedder = fasttext.train_unsupervised(file_name, minn=minn, maxn=maxn, dim=dim)\n",
    "    embedder.save_model(EMBEDDER_BACKUP_NAME)\n",
    "    return embedder"
   ]
  },
  {
   "cell_type": "code",
   "execution_count": 17,
   "metadata": {},
   "outputs": [
    {
     "name": "stdout",
     "output_type": "stream",
     "text": [
      "Found backup\n"
     ]
    },
    {
     "name": "stderr",
     "output_type": "stream",
     "text": [
      "\n"
     ]
    }
   ],
   "source": [
    "embedder = train_embeddings(train_markup.get_text_array(), FASTTEXT_EMBEDDING_NAME)"
   ]
  },
  {
   "cell_type": "code",
   "execution_count": 18,
   "metadata": {},
   "outputs": [
    {
     "data": {
      "text/plain": [
       "20696"
      ]
     },
     "execution_count": 18,
     "metadata": {},
     "output_type": "execute_result"
    }
   ],
   "source": [
    "len(embedder.words)"
   ]
  },
  {
   "cell_type": "code",
   "execution_count": 19,
   "metadata": {},
   "outputs": [
    {
     "data": {
      "text/plain": [
       "0"
      ]
     },
     "execution_count": 19,
     "metadata": {},
     "output_type": "execute_result"
    }
   ],
   "source": [
    "fasttext_model = None\n",
    "gc.collect()"
   ]
  },
  {
   "cell_type": "code",
   "execution_count": 20,
   "metadata": {},
   "outputs": [],
   "source": [
    "import torch\n",
    "import torch.nn as nn\n",
    "import itertools\n",
    "import spacy\n",
    "import torchtext"
   ]
  },
  {
   "cell_type": "markdown",
   "metadata": {},
   "source": [
    "Сейчас каждый пример -- текст. Нам нужны слова. Отфильтруем их. Уберем все стоп-слова, а так же пару символов, которые в процессе отладки встречались слишком часто"
   ]
  },
  {
   "cell_type": "code",
   "execution_count": 21,
   "metadata": {},
   "outputs": [
    {
     "name": "stderr",
     "output_type": "stream",
     "text": [
      "[nltk_data] Downloading package stopwords to\n",
      "[nltk_data]     C:\\Users\\nikitos\\AppData\\Roaming\\nltk_data...\n",
      "[nltk_data]   Package stopwords is already up-to-date!\n"
     ]
    }
   ],
   "source": [
    "from nltk.corpus import stopwords\n",
    "nltk.download('stopwords')\n",
    "\n",
    "stops = set(list(stopwords.words('english')) + ['!', ':', 'n'])\n",
    "def from_texts_to_words(text_arr):\n",
    "    words = [list(filter(lambda x: x not in stops, text.split(' '))) for text in text_arr]\n",
    "    return words"
   ]
  },
  {
   "cell_type": "markdown",
   "metadata": {},
   "source": [
    "Подготовим датасет к обучению"
   ]
  },
  {
   "cell_type": "code",
   "execution_count": 22,
   "metadata": {},
   "outputs": [],
   "source": [
    "train_text = from_texts_to_words(train_markup.get_text_array())\n",
    "test_text = from_texts_to_words(test_markup.get_text_array())\n",
    "dev_text = from_texts_to_words(dev_markup.get_text_array())\n",
    "\n",
    "train_labels = np.array(train_markup.get_label_array())\n",
    "test_labels = np.array(test_markup.get_label_array())\n",
    "dev_labels = np.array(dev_markup.get_label_array())"
   ]
  },
  {
   "cell_type": "markdown",
   "metadata": {},
   "source": [
    "Будем хранить датасет (как в семинаре) в pytorch'овской обертке"
   ]
  },
  {
   "cell_type": "code",
   "execution_count": 23,
   "metadata": {},
   "outputs": [
    {
     "name": "stdout",
     "output_type": "stream",
     "text": [
      "\n",
      "    Warning: no model found for 'en'\n",
      "\n",
      "    Only loading the 'en' tokenizer.\n",
      "\n"
     ]
    }
   ],
   "source": [
    "TEXT = torchtext.data.Field(tokenize='spacy')\n",
    "LABEL = torchtext.data.LabelField()\n",
    "fields = [('text', TEXT), ('label', LABEL)]\n",
    "\n",
    "def convert_to_dataset(text, labels):\n",
    "    dataset = []\n",
    "    for text, label in zip(text, labels):\n",
    "        dataset += [torchtext.data.Example.fromlist([text, label], fields)]\n",
    "    return torchtext.data.Dataset(dataset, fields)\n",
    "\n",
    "train_data = convert_to_dataset(train_text, train_labels)\n",
    "test_data = convert_to_dataset(test_text, test_labels)\n",
    "dev_data = convert_to_dataset(dev_text, dev_labels)"
   ]
  },
  {
   "cell_type": "markdown",
   "metadata": {},
   "source": [
    "Посмотрим, как выглядит наш датасет"
   ]
  },
  {
   "cell_type": "code",
   "execution_count": null,
   "metadata": {},
   "outputs": [
    {
     "name": "stdout",
     "output_type": "stream",
     "text": [
      "['staring', 'next', 'face', 'boggart', 'defense', 'dark', 'arts', 'class', 'scared', 'worried', 'happened', 'lysander', 'looked', 'boggart', 'front', 'previously', 'humongous', 'spider', 'eyes', 'locked', 'could', 'think', 'frightened', 'spider', 'transformed', 'lysander', 'dying', 'giggles', 'coming', 'male', 'female', 'hufflepuff', 'students', 'smirk', 'lorcan', 'face', 'lily', 'help', 'ca', 'fail', 'class', 'secret', 'love', 'lily', 'lifted', 'wand', 'said']\n"
     ]
    }
   ],
   "source": [
    "print(train_data[0].text)"
   ]
  },
  {
   "cell_type": "code",
   "execution_count": null,
   "metadata": {},
   "outputs": [],
   "source": [
    "TEXT.build_vocab(train_data, max_size=100000, min_freq=10, vectors=\"glove.twitter.27B.200d\")\n",
    "LABEL.build_vocab(train_data)"
   ]
  },
  {
   "cell_type": "markdown",
   "metadata": {},
   "source": [
    "Объявим сеть, которая будет производить классификацию. Будем производить ряд 2d сверток, которые по факту 1d, которые в последствии вытягиваются в вектор и от него берется maxpool в вектор фиксированного размера, после которого идет полносвязный классифицирующий слой."
   ]
  },
  {
   "cell_type": "code",
   "execution_count": null,
   "metadata": {},
   "outputs": [],
   "source": [
    "import torch.nn as nn\n",
    "import torch.nn.functional as F\n",
    "\n",
    "class CNN(nn.Module):\n",
    "    def __init__(self, vocab_size, embedding_dim, n_filters, filter_sizes, output_dim, dropout):\n",
    "        super().__init__()\n",
    "        \n",
    "        self.embedding = nn.Embedding(vocab_size, embedding_dim)\n",
    "        self.convs = nn.ModuleList([nn.Conv2d(in_channels=1, out_channels=n_filters, kernel_size=(size, embedding_dim)) for size in filter_sizes])\n",
    "        self.fc = nn.Linear(len(filter_sizes) * n_filters, output_dim)\n",
    "        self.dropout = nn.Dropout(dropout)\n",
    "        self.logsoftmax = nn.LogSoftmax()\n",
    "        \n",
    "    def forward(self, x):\n",
    "        x = x.permute(1, 0)\n",
    "        embedded = self.embedding(x)      \n",
    "        embedded = embedded.unsqueeze(1)\n",
    "        conved = [F.relu(conv(embedded)).squeeze(3) for conv in self.convs]\n",
    "        pooled = [F.max_pool1d(conv, conv.shape[2]).squeeze(2) for conv in conved]\n",
    "        \n",
    "        cat = self.dropout(torch.cat((pooled), dim=1))\n",
    "        return self.logsoftmax(self.fc(cat))"
   ]
  },
  {
   "cell_type": "markdown",
   "metadata": {},
   "source": [
    "Напишем шаг обучения"
   ]
  },
  {
   "cell_type": "code",
   "execution_count": null,
   "metadata": {},
   "outputs": [],
   "source": [
    "def step(model, iterator,criterion, optimizer=None, is_valid=False):\n",
    "    assert is_valid or not is_valid and optimizer is not None\n",
    "    model.cuda()\n",
    "    loss_log = []\n",
    "    f1_log = []\n",
    "    \n",
    "    if is_valid:\n",
    "        torch.set_grad_enabled(False)\n",
    "    else:\n",
    "        torch.set_grad_enabled(True)\n",
    "    \n",
    "    for batch in iterator:\n",
    "        if not is_valid:\n",
    "            optimizer.zero_grad()\n",
    "        \n",
    "        pred = model.forward(batch.text.cuda()).squeeze(1)\n",
    "        pred_classes = torch.argmax(pred, dim=-1).cpu().numpy()\n",
    "        loss = criterion(pred, batch.label.cuda()).cpu()\n",
    "        f1_cur = calculate_f1(pred_classes, batch.label.cpu().numpy())\n",
    "        \n",
    "        if not is_valid:\n",
    "            loss.backward()\n",
    "            optimizer.step()\n",
    "            \n",
    "        loss_log.append(loss.item())\n",
    "        f1_log.append(f1_cur)\n",
    "            \n",
    "    model.cpu()\n",
    "    gc.collect()\n",
    "    torch.cuda.empty_cache()\n",
    "    return loss_log, f1_log"
   ]
  },
  {
   "cell_type": "markdown",
   "metadata": {},
   "source": [
    "Не обойтись без графиков. Взято с курса по deep_learning"
   ]
  },
  {
   "cell_type": "code",
   "execution_count": null,
   "metadata": {},
   "outputs": [],
   "source": [
    "%matplotlib inline\n",
    "import matplotlib.pyplot as plt\n",
    "import numpy as np\n",
    "\n",
    "def plot_history(train_history, val_history, title='loss'):\n",
    "    plt.figure()\n",
    "    plt.title('{}'.format(title))\n",
    "    plt.plot(train_history, label='train', zorder=1)\n",
    "    \n",
    "    x_points, y_points = [], []\n",
    "    for x, y in val_history:\n",
    "        x_points.append(x)\n",
    "        y_points.append(y)\n",
    "        \n",
    "    plt.scatter(x_points, y_points, marker='+', s=180, c='orange', label='valid', zorder=2)\n",
    "    plt.xlabel('train steps')\n",
    "    \n",
    "    plt.legend(loc='best')\n",
    "    plt.grid()\n",
    "    plt.show()"
   ]
  },
  {
   "cell_type": "markdown",
   "metadata": {},
   "source": [
    "Напишем функцию обучения для одной заданной модели"
   ]
  },
  {
   "cell_type": "code",
   "execution_count": null,
   "metadata": {},
   "outputs": [],
   "source": [
    "from IPython.display import clear_output\n",
    "import torch.optim as optim\n",
    "\n",
    "def train_model(model, epochs, train_iterator, dev_iterator, test_iterator):\n",
    "  \n",
    "    optimizer = optim.SGD(model.parameters(), lr=0.001, momentum=0.9)\n",
    "    criterion = nn.NLLLoss()\n",
    "    \n",
    "    train_loss_log = []\n",
    "    dev_loss_log = []\n",
    "\n",
    "    train_f1_log = []\n",
    "    dev_f1_log = []\n",
    "\n",
    "    for epoch in range(1, epochs + 1):\n",
    "        train_loss, train_f1 = step(model, train_iterator, criterion, optimizer, is_valid=False)\n",
    "        dev_loss, dev_f1 = step(model, dev_iterator, criterion, is_valid=True)\n",
    "\n",
    "        train_loss_log.extend(train_loss)\n",
    "        train_f1_log.extend(train_f1)\n",
    "        \n",
    "        train_runs = len(train_loss)\n",
    "        \n",
    "        dev_loss_log.append((train_runs * epoch, np.mean(dev_loss)))\n",
    "        dev_f1_log.append((train_runs * epoch, np.mean(dev_f1)))\n",
    "\n",
    "        clear_output(True)\n",
    "\n",
    "        print('Epoch %02d' % (epoch))\n",
    "        plot_history(train_loss_log, dev_loss_log, title='loss')\n",
    "        plot_history(train_f1_log, dev_f1_log, title='f1-score')\n",
    "        print('Train Loss: %.3f, Train f1:%.3f' % (np.mean(train_loss), np.mean(train_f1)))\n",
    "        print('Dev Loss: %.3f, Dev f1: :%.3f' % (np.mean(dev_loss),np.mean(dev_f1)))\n",
    "    \n",
    "    \n",
    "    test_loss, test_f1 = step(model, test_iterator, criterion, is_valid=True)\n",
    "\n",
    "    print('\\nTest Loss: %.3f, Test f1: :%.3f\\n' % (np.mean(test_loss), np.mean(test_f1)))"
   ]
  },
  {
   "cell_type": "markdown",
   "metadata": {},
   "source": [
    "Напишем функцию для инициализации модели и ее обучения с заданными параметрами"
   ]
  },
  {
   "cell_type": "code",
   "execution_count": null,
   "metadata": {},
   "outputs": [],
   "source": [
    "def train_model_with_params(n_filters, filter_sizes, batch_size, epochs):\n",
    "    model = CNN(len(TEXT.vocab), 200, n_filters, filter_sizes, train_markup.get_class_count(), 0.2)\n",
    "\n",
    "    pretrained_embeddings = TEXT.vocab.vectors\n",
    "    model.embedding.weight.data.copy_(pretrained_embeddings)\n",
    "\n",
    "    model = model.cuda()\n",
    "\n",
    "    train_iterator, dev_iterator, test_iterator = torchtext.data.BucketIterator.splits(\n",
    "        (train_data, dev_data, test_data), \n",
    "        batch_size=batch_size, \n",
    "        sort_key=lambda x: len(x.text), \n",
    "        repeat=False)\n",
    "    \n",
    "    train_model(model, epochs, train_iterator, dev_iterator, test_iterator)\n",
    "    \n",
    "    gc.collect()\n",
    "    torch.cuda.empty_cache()\n",
    "    return model.cpu()"
   ]
  },
  {
   "cell_type": "markdown",
   "metadata": {},
   "source": [
    "Перебор параметров будем осуществлять некрасивым способом, т.к. графики будут перекрывать друг друга"
   ]
  },
  {
   "cell_type": "code",
   "execution_count": null,
   "metadata": {},
   "outputs": [],
   "source": [
    "params = [\n",
    "    (64, [3, 3, 4, 4, 5, 5]),\n",
    "    (128, [3, 4, 4, 5]),\n",
    "    (256, [3, 4, 5]),\n",
    "    (512, [3, 4, 5])\n",
    "]\n",
    "batch_size = 64\n",
    "epochs = 20\n",
    "cur_param = 0"
   ]
  },
  {
   "cell_type": "code",
   "execution_count": null,
   "metadata": {},
   "outputs": [
    {
     "name": "stdout",
     "output_type": "stream",
     "text": [
      "Epoch 20\n"
     ]
    },
    {
     "data": {
      "image/png": "[encoded data removed]",
      "text/plain": [
       "<Figure size 432x288 with 1 Axes>"
      ]
     },
     "metadata": {
      "needs_background": "light"
     },
     "output_type": "display_data"
    },
    {
     "data": {
      "image/png": "[encoded data removed]",
      "text/plain": [
       "<Figure size 432x288 with 1 Axes>"
      ]
     },
     "metadata": {
      "needs_background": "light"
     },
     "output_type": "display_data"
    },
    {
     "name": "stdout",
     "output_type": "stream",
     "text": [
      "Train Loss: 2.647, Train f1:0.159\n",
      "Dev Loss: 2.954, Dev f1: :0.112\n",
      "\n",
      "Test Loss: 2.935, Test f1: :0.116\n",
      "\n"
     ]
    }
   ],
   "source": [
    "n_filters, filter_sizes = params[cur_param] \n",
    "\n",
    "torch.cuda.empty_cache()\n",
    "best_model = train_model_with_params(n_filters, filter_sizes, batch_size, epochs)\n",
    "best_model = None\n",
    "torch.cuda.empty_cache()\n",
    "cur_param += 1"
   ]
  },
  {
   "cell_type": "markdown",
   "metadata": {},
   "source": [
    "В принципе можно попробовать обучить еще больше эпох, но заметим, что ошибка на обучающей выборке стала сильно ниже, чем на тестовой. Поэтому учить дальше не будем"
   ]
  },
  {
   "cell_type": "code",
   "execution_count": null,
   "metadata": {},
   "outputs": [
    {
     "name": "stdout",
     "output_type": "stream",
     "text": [
      "Epoch 20\n"
     ]
    },
    {
     "data": {
      "image/png": "[encoded data removed]",
      "text/plain": [
       "<Figure size 432x288 with 1 Axes>"
      ]
     },
     "metadata": {
      "needs_background": "light"
     },
     "output_type": "display_data"
    },
    {
     "data": {
      "image/png": "[encoded data removed]",
      "text/plain": [
       "<Figure size 432x288 with 1 Axes>"
      ]
     },
     "metadata": {
      "needs_background": "light"
     },
     "output_type": "display_data"
    },
    {
     "name": "stdout",
     "output_type": "stream",
     "text": [
      "Train Loss: 2.619, Train f1:0.161\n",
      "Dev Loss: 2.951, Dev f1: :0.110\n",
      "\n",
      "Test Loss: 2.931, Test f1: :0.117\n",
      "\n"
     ]
    }
   ],
   "source": [
    "n_filters, filter_sizes = params[cur_param] \n",
    "\n",
    "torch.cuda.empty_cache()\n",
    "best_model = train_model_with_params(n_filters, filter_sizes, batch_size, epochs)\n",
    "best_model = None\n",
    "torch.cuda.empty_cache()\n",
    "cur_param += 1"
   ]
  },
  {
   "cell_type": "code",
   "execution_count": null,
   "metadata": {},
   "outputs": [
    {
     "name": "stdout",
     "output_type": "stream",
     "text": [
      "Epoch 20\n"
     ]
    },
    {
     "data": {
      "image/png": "[encoded data removed]",
      "text/plain": [
       "<Figure size 432x288 with 1 Axes>"
      ]
     },
     "metadata": {
      "needs_background": "light"
     },
     "output_type": "display_data"
    },
    {
     "data": {
      "image/png": "[encoded data removed]",
      "text/plain": [
       "<Figure size 432x288 with 1 Axes>"
      ]
     },
     "metadata": {
      "needs_background": "light"
     },
     "output_type": "display_data"
    },
    {
     "name": "stdout",
     "output_type": "stream",
     "text": [
      "Train Loss: 2.567, Train f1:0.169\n",
      "Dev Loss: 2.938, Dev f1: :0.115\n",
      "\n",
      "Test Loss: 2.918, Test f1: :0.117\n",
      "\n"
     ]
    }
   ],
   "source": [
    "n_filters, filter_sizes = params[cur_param] \n",
    "\n",
    "torch.cuda.empty_cache()\n",
    "best_model = train_model_with_params(n_filters, filter_sizes, batch_size, epochs)\n",
    "best_model = None\n",
    "torch.cuda.empty_cache()\n",
    "cur_param += 1"
   ]
  },
  {
   "cell_type": "code",
   "execution_count": null,
   "metadata": {},
   "outputs": [
    {
     "name": "stdout",
     "output_type": "stream",
     "text": [
      "Epoch 16\n"
     ]
    },
    {
     "data": {
      "image/png": "[encoded data removed]",
      "text/plain": [
       "<Figure size 432x288 with 1 Axes>"
      ]
     },
     "metadata": {
      "needs_background": "light"
     },
     "output_type": "display_data"
    },
    {
     "data": {
      "image/png": "[encoded data removed]",
      "text/plain": [
       "<Figure size 432x288 with 1 Axes>"
      ]
     },
     "metadata": {
      "needs_background": "light"
     },
     "output_type": "display_data"
    },
    {
     "name": "stdout",
     "output_type": "stream",
     "text": [
      "Train Loss: 2.617, Train f1:0.160\n",
      "Dev Loss: 2.955, Dev f1: :0.117\n"
     ]
    }
   ],
   "source": [
    "n_filters, filter_sizes = params[cur_param] \n",
    "\n",
    "torch.cuda.empty_cache()\n",
    "best_model = train_model_with_params(n_filters, filter_sizes, batch_size, epochs)\n",
    "best_model = None\n",
    "torch.cuda.empty_cache()\n",
    "cur_param += 1"
   ]
  },
  {
   "cell_type": "markdown",
   "metadata": {},
   "source": [
    "Эти модели добиваются примерно одинакового качества. Однако есть предположение, что с увеличением и кол-ва фильтров, и числа сверток качество будет выше, но тогда нужно огромные вычислительные ресурсы и много вычислительного времени"
   ]
  },
  {
   "cell_type": "code",
   "execution_count": null,
   "metadata": {},
   "outputs": [],
   "source": []
  }
 ],
 "metadata": {
  "kernelspec": {
   "display_name": "Python 3",
   "language": "python",
   "name": "python3"
  },
  "language_info": {
   "codemirror_mode": {
    "name": "ipython",
    "version": 3
   },
   "file_extension": ".py",
   "mimetype": "text/x-python",
   "name": "python",
   "nbconvert_exporter": "python",
   "pygments_lexer": "ipython3",
   "version": "3.6.8"
  }
 },
 "nbformat": 4,
 "nbformat_minor": 4
}
