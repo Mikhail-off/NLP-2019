{
 "cells": [
  {
   "cell_type": "markdown",
   "metadata": {},
   "source": [
    "# Домашнее задание 2\n",
    "## Named Entety Recognition and Event Extraction from Literary Fiction\n",
    "\n",
    "deadline: 30 октября 2019, 23:59\n",
    "\n",
    "В этом домашнем задании вы будете работать с корпусом LitBank. Корпус собран из популярных художественных произведений на английском языке и сожержит разметку по именованным сущностям и событиям. Объем корпуса таков: 100 текстов по примерно 2000 слов каждый. \n",
    "\n",
    "Корпус описан в статьях:\n",
    "* David Bamman, Sejal Popat, Sheng Shen, An Annotated Dataset of Literary Entities http://people.ischool.berkeley.edu/~dbamman/pubs/pdf/naacl2019_literary_entities.pdf\n",
    "* Matthew Sims, Jong Ho Park, David Bamman, Literary Event Detection,  http://people.ischool.berkeley.edu/~dbamman/pubs/pdf/acl2019_literary_events.pdf\n",
    "\n",
    "Корпус доступен в репозитории проекта:  https://github.com/dbamman/litbank\n",
    "\n",
    "Статья и код, использованный для извлечения именованных сущностей: \n",
    "* Meizhi Ju, Makoto Miwa and Sophia Ananiadou, A Neural Layered Model for Nested Named Entity Recognition, https://github.com/meizhiju/layered-bilstm-crf\n",
    "\n",
    "Структура корпуса устроена так. \n",
    "Первый уровень: \n",
    "* entities -- разметка по сущностям\n",
    "* events -- разметка по сущностям\n",
    "\n",
    "\n",
    "В корпусе используются 6 типов именованных сущностей: PER, LOC, ORG, FAC, GPE, VEH (имена, локации, организации, помещения, топонимы, средства перемещния), допускаются вложенные сущности. \n",
    "\n",
    "События выражается одним словом - *триггером*, которое может быть глагом, прилагательным и существительным. В корпусе описаны события, которые действительно происходят и не имеют гипотетического характера. \n",
    "Пример: she *walked* rapidly and resolutely, здесь *walked* -- триггер события. Типы событий не заданы. \n",
    "\n",
    "\n",
    "\n",
    "Второй уровень:\n",
    "* brat -- рабочие файлы инструмента разметки brat, ann-файлы содержат разметку, txt-файлы – сырые тексты \n",
    "* tsv -- tsv-файлы содержат разметку в IOB формате,\n",
    "\n",
    "\n",
    "В статье и репозитории вы найдете идеи, которые помогут вам выполнить домашнее задание. Их стоит воспринимать как руководство к действию, и не стоит их копировать и переиспользовать. Обученные модели использовать не нужно, код для их обучения можно использовать как подсказку. \n",
    "\n",
    "## ПРАВИЛА\n",
    "1. Домашнее задание выполняется в группе до 3-х человек.\n",
    "2. Домашнее задание сдается через anytask, инвайты будут дополнительно высланы.\n",
    "3. Домашнее задание оформляется в виде отчета либо в .pdf файле, либо ipython-тетрадке. \n",
    "4. Отчет должен содержать: нумерацию заданий и пунктов, которые вы выполнили, код решения, и понятное пошаговое описание того, что вы сделали. Отчет должен быть написан в академическом стиле, без излишнего использования сленга и с соблюдением норм русского языка.\n",
    "5. Не стоит копировать фрагменты лекций, статей и Википедии в ваш отчет.\n",
    "6. Отчеты, состоящие исключительно из кода, не будут проверены и будут автоматически оценены нулевой оценкой.\n",
    "7. Плагиат и любое недобросоветсное цитирование приводит к обнуление оценки. \n"
   ]
  },
  {
   "cell_type": "markdown",
   "metadata": {},
   "source": [
    "# Часть 1. [2 балла] Эксплоративный анализ \n",
    "1. Найдите топ 10 (по частоте) именованных сущностей каждого из 6 типов.\n",
    "2. Найдите топ 10 (по частоте) частотных триггеров событий. "
   ]
  },
  {
   "cell_type": "code",
   "execution_count": 1,
   "metadata": {},
   "outputs": [],
   "source": [
    "import pandas as pd\n",
    "import glob\n",
    "import csv"
   ]
  },
  {
   "cell_type": "code",
   "execution_count": 2,
   "metadata": {},
   "outputs": [],
   "source": [
    "path = r'data\\events\\tsv'\n",
    "all_files = glob.glob(path + \"/*.tsv\")\n",
    "\n",
    "li = []\n",
    "for filename in all_files:\n",
    "    df = pd.read_csv(filename, \n",
    "                     index_col=None,  \n",
    "                     sep='\\t', \n",
    "                     quoting=csv.QUOTE_NONE, \n",
    "                     header=None)\n",
    "    li.append(df)\n",
    "\n",
    "events = pd.concat(li, axis=0, ignore_index=True)"
   ]
  },
  {
   "cell_type": "code",
   "execution_count": 3,
   "metadata": {},
   "outputs": [
    {
     "data": {
      "text/plain": [
       "said      464\n",
       "came       95\n",
       "went       92\n",
       "looked     92\n",
       "asked      69\n",
       "heard      63\n",
       "cried      59\n",
       "saw        59\n",
       "took       56\n",
       "turned     55\n",
       "Name: 0, dtype: int64"
      ]
     },
     "execution_count": 3,
     "metadata": {},
     "output_type": "execute_result"
    }
   ],
   "source": [
    "events[events[1] != 'O'][0].value_counts()[0:10]"
   ]
  },
  {
   "cell_type": "code",
   "execution_count": 4,
   "metadata": {},
   "outputs": [],
   "source": [
    "path = r'data\\entities\\brat'\n",
    "all_files = glob.glob(path + \"/*.ann\")\n",
    "\n",
    "li = []\n",
    "for filename in all_files:\n",
    "    df = pd.read_csv(filename, \n",
    "                     index_col=None,  \n",
    "                     sep='\\t', \n",
    "                     quoting=csv.QUOTE_NONE, \n",
    "                     header=None)\n",
    "    li.append(df)\n",
    "\n",
    "entities = pd.concat(li, axis=0, ignore_index=True)\n",
    "df1 = pd.DataFrame(entities[1].str.split(' ',2).tolist(),\n",
    "                                   columns = [4,5,6])\n",
    "entities = pd.concat([entities[2], df1[4]], axis=1, ignore_index=True)"
   ]
  },
  {
   "cell_type": "code",
   "execution_count": 5,
   "metadata": {},
   "outputs": [
    {
     "data": {
      "text/plain": [
       "Mr.          148\n",
       "Miss         133\n",
       "Mrs.         132\n",
       "sir           50\n",
       "Sir           45\n",
       "my mother     40\n",
       "men           40\n",
       "Cameron       38\n",
       "his wife      37\n",
       "Mr            37\n",
       "Name: 0, dtype: int64"
      ]
     },
     "execution_count": 5,
     "metadata": {},
     "output_type": "execute_result"
    }
   ],
   "source": [
    "entities[entities[1] == 'PER'][0].value_counts()[0:10]"
   ]
  },
  {
   "cell_type": "code",
   "execution_count": 6,
   "metadata": {},
   "outputs": [
    {
     "data": {
      "text/plain": [
       "home          65\n",
       "the house     52\n",
       "here          39\n",
       "there         39\n",
       "the room      34\n",
       "the garden    23\n",
       "the street    14\n",
       "the hall      13\n",
       "the road      13\n",
       "the place     12\n",
       "Name: 0, dtype: int64"
      ]
     },
     "execution_count": 6,
     "metadata": {},
     "output_type": "execute_result"
    }
   ],
   "source": [
    "entities[entities[1] == 'FAC'][0].value_counts()[0:10]"
   ]
  },
  {
   "cell_type": "code",
   "execution_count": 7,
   "metadata": {},
   "outputs": [
    {
     "data": {
      "text/plain": [
       "London      40\n",
       "England     32\n",
       "there       21\n",
       "the town    21\n",
       "New York    16\n",
       "France      14\n",
       "town        14\n",
       "Europe      12\n",
       "Rome        10\n",
       "Avonlea     10\n",
       "Name: 0, dtype: int64"
      ]
     },
     "execution_count": 7,
     "metadata": {},
     "output_type": "execute_result"
    }
   ],
   "source": [
    "entities[entities[1] == 'GPE'][0].value_counts()[0:10]"
   ]
  },
  {
   "cell_type": "code",
   "execution_count": 8,
   "metadata": {},
   "outputs": [
    {
     "data": {
      "text/plain": [
       "the world      72\n",
       "the sea        27\n",
       "the river      22\n",
       "the country    20\n",
       "there          18\n",
       "the earth      16\n",
       "sea            16\n",
       "the valley     13\n",
       "this world     12\n",
       "Mars            9\n",
       "Name: 0, dtype: int64"
      ]
     },
     "execution_count": 8,
     "metadata": {},
     "output_type": "execute_result"
    }
   ],
   "source": [
    "entities[entities[1] == 'LOC'][0].value_counts()[0:10]"
   ]
  },
  {
   "cell_type": "code",
   "execution_count": 9,
   "metadata": {},
   "outputs": [
    {
     "data": {
      "text/plain": [
       "the ship        11\n",
       "the car          9\n",
       "the train        6\n",
       "the boat         4\n",
       "boats            4\n",
       "the carriage     3\n",
       "the waggon       3\n",
       "a carriage       3\n",
       "the Fuwalda      3\n",
       "the coach        3\n",
       "Name: 0, dtype: int64"
      ]
     },
     "execution_count": 9,
     "metadata": {},
     "output_type": "execute_result"
    }
   ],
   "source": [
    "entities[entities[1] == 'VEH'][0].value_counts()[0:10]"
   ]
  },
  {
   "cell_type": "code",
   "execution_count": 10,
   "metadata": {},
   "outputs": [
    {
     "data": {
      "text/plain": [
       "the army                          7\n",
       "the Committee of Public Safety    4\n",
       "the Colonial Office               4\n",
       "the Church                        4\n",
       "Harvard                           3\n",
       "college                           3\n",
       "the hospital                      2\n",
       "Carston , Waite and Co.           2\n",
       "a regiment of regulars            2\n",
       "Blodgett College                  2\n",
       "Name: 0, dtype: int64"
      ]
     },
     "execution_count": 10,
     "metadata": {},
     "output_type": "execute_result"
    }
   ],
   "source": [
    "entities[entities[1] == 'ORG'][0].value_counts()[0:10]"
   ]
  },
  {
   "cell_type": "markdown",
   "metadata": {},
   "source": [
    "# ЧАСТЬ 2\n",
    "   "
   ]
  },
  {
   "cell_type": "code",
   "execution_count": 11,
   "metadata": {},
   "outputs": [],
   "source": [
    "import os\n",
    "import torch\n",
    "import numpy as np\n",
    "import pandas as pd\n",
    "import csv\n",
    "import pickle\n",
    "from sklearn.model_selection import train_test_split"
   ]
  },
  {
   "cell_type": "code",
   "execution_count": 12,
   "metadata": {},
   "outputs": [],
   "source": [
    "ENTITIES_TSV = 'data/entities/tsv/'\n",
    "MAX_FILES = None"
   ]
  },
  {
   "cell_type": "code",
   "execution_count": 13,
   "metadata": {},
   "outputs": [],
   "source": [
    "class DataParser:\n",
    "    def __init__(self):\n",
    "        self._words_set = set()\n",
    "        self._char_set = set()\n",
    "        self._tags_set = set()\n",
    "        self._entities_files = os.listdir(ENTITIES_TSV)\n",
    "        \n",
    "    def get_sentences(self, tsv_files):\n",
    "        sentances, tags = list(), list()\n",
    "        for file_name in tsv_files:\n",
    "            file_path = os.path.join(ENTITIES_TSV, file_name)\n",
    "            df = self._read_one_tsv(file_path)\n",
    "            s, t = self._split_df_to_sentences(df)\n",
    "            sentances.extend(s)\n",
    "            tags.extend(t)\n",
    "        return sentances, tags\n",
    "    \n",
    "    def _read_one_tsv(self, path):\n",
    "        #print(path)\n",
    "        df = pd.read_csv(path, sep='\\t', header=None, encoding='utf-8', quoting=csv.QUOTE_NONE)\n",
    "        return df.iloc[:, :2]\n",
    "    \n",
    "    def _split_df_to_sentences(self, df):\n",
    "        sentences = []\n",
    "        tags = []\n",
    "        delimiter = '.'\n",
    "        delimiter_ind = np.where(df[0].values == delimiter)[0]\n",
    "        for i, end in enumerate(delimiter_ind):\n",
    "            begin = delimiter_ind[i - 1] + 1 if i != 0 else 0\n",
    "            sent_df = df[begin: end]\n",
    "            sent = sent_df.iloc[:, 0].str.lower().values\n",
    "            tag = sent_df.iloc[:, 1].values\n",
    "            for word in sent:\n",
    "                self._words_set.add(word)\n",
    "                self._char_set = self._char_set.union(set(word))\n",
    "            self._tags_set = self._tags_set.union(set(tag))\n",
    "            sentences.append(sent)\n",
    "            tags.append(tag)\n",
    "        return sentences, tags\n",
    "    \n",
    "    def init_vocab(self):\n",
    "        self.word2ind = dict()\n",
    "        self.ind2word = dict()\n",
    "        for i, word in enumerate(self._words_set):\n",
    "            self.word2ind[word] = i\n",
    "            self.ind2word[i] = word\n",
    "        \n",
    "        self.char2ind = dict()\n",
    "        self.ind2char = dict()\n",
    "        self.char2ind['#'] = 0\n",
    "        self.ind2char[0] = '#'\n",
    "        for i, ch in enumerate(self._char_set):\n",
    "            self.char2ind[ch] = i + 1\n",
    "            self.ind2char[i + 1] = ch\n",
    "        \n",
    "        self.tag2ind = dict()\n",
    "        self.ind2tag = dict()\n",
    "        for i, tag in enumerate(self._tags_set):\n",
    "            self.tag2ind[tag] = i\n",
    "            self.ind2tag[i] = tag\n",
    "        \n",
    "    def get_train_test(self, tsv_files, test_size=0.3):\n",
    "        train_files, test_files = train_test_split(tsv_files, test_size=test_size)\n",
    "        return self.get_sentences(train_files), self.get_sentences(test_files)"
   ]
  },
  {
   "cell_type": "code",
   "execution_count": 14,
   "metadata": {},
   "outputs": [],
   "source": [
    "dp = DataParser()\n",
    "train_data, test_data = dp.get_train_test(os.listdir(ENTITIES_TSV))"
   ]
  },
  {
   "cell_type": "code",
   "execution_count": 15,
   "metadata": {},
   "outputs": [],
   "source": [
    "dp.init_vocab()"
   ]
  },
  {
   "cell_type": "code",
   "execution_count": 16,
   "metadata": {},
   "outputs": [],
   "source": [
    "def sent2matrix(sent, max_word_len=None):\n",
    "    assert dp.char2ind['#'] == 0\n",
    "    \n",
    "    max_word_len = max_word_len if max_word_len is not None else max(map(len, sent))\n",
    "    char_matrix = np.zeros([len(sent), max_word_len], np.int64)\n",
    "    word_matrix = np.zeros(len(sent), dtype=np.int64)\n",
    "    for i, word in enumerate(sent):\n",
    "        word_matrix[i] = dp.word2ind[word]\n",
    "        for j, ch in enumerate(word):\n",
    "            if j == max_word_len:\n",
    "                break\n",
    "            char_matrix[i, j] = dp.char2ind[ch]\n",
    "    return torch.LongTensor(torch.from_numpy(word_matrix)), torch.LongTensor(torch.from_numpy(char_matrix))"
   ]
  },
  {
   "cell_type": "code",
   "execution_count": 17,
   "metadata": {},
   "outputs": [
    {
     "data": {
      "text/plain": [
       "(tensor([11522,  7299, 10152,  3827,  7430,  9570,  4242, 10905, 10117,   640,\n",
       "          3284,  3866,  1559, 15832,  8606, 10905,   590, 13757,  7050,  9570,\n",
       "          5794, 11330, 13049, 16201,  3958,   160,  7751,  9570,  2560,   640,\n",
       "          2470,  9167, 16201,  6182,  9741, 15028,  1866, 16201,  2324]),\n",
       " tensor([[12,  0,  0,  0,  0,  0,  0,  0,  0,  0,  0,  0,  0,  0,  0,  0,  0,  0],\n",
       "         [58, 52,  8,  0,  0,  0,  0,  0,  0,  0,  0,  0,  0,  0,  0,  0,  0,  0],\n",
       "         [19,  1, 43,  0,  0,  0,  0,  0,  0,  0,  0,  0,  0,  0,  0,  0,  0,  0],\n",
       "         [50, 60,  8, 50, 49,  0,  0,  0,  0,  0,  0,  0,  0,  0,  0,  0,  0,  0],\n",
       "         [54, 49, 43, 19, 58, 50, 49, 20,  0,  0,  0,  0,  0,  0,  0,  0,  0,  0],\n",
       "         [21,  0,  0,  0,  0,  0,  0,  0,  0,  0,  0,  0,  0,  0,  0,  0,  0,  0],\n",
       "         [43, 42, 50,  0,  0,  0,  0,  0,  0,  0,  0,  0,  0,  0,  0,  0,  0,  0],\n",
       "         [43, 16,  0,  0,  0,  0,  0,  0,  0,  0,  0,  0,  0,  0,  0,  0,  0,  0],\n",
       "         [ 1, 58, 43, 48,  0,  0,  0,  0,  0,  0,  0,  0,  0,  0,  0,  0,  0,  0],\n",
       "         [ 1, 52, 20,  0,  0,  0,  0,  0,  0,  0,  0,  0,  0,  0,  0,  0,  0,  0],\n",
       "         [60, 12, 50, 23, 19, 50, 42, 52, 42, 19, 38, 47, 43, 60, 43, 42, 50, 60],\n",
       "         [19, 43,  0,  0,  0,  0,  0,  0,  0,  0,  0,  0,  0,  0,  0,  0,  0,  0],\n",
       "         [52, 42,  0,  0,  0,  0,  0,  0,  0,  0,  0,  0,  0,  0,  0,  0,  0,  0],\n",
       "         [50, 42, 65, 60, 12, 20, 58,  0,  0,  0,  0,  0,  0,  0,  0,  0,  0,  0],\n",
       "         [49, 50, 65, 12, 48, 50, 42, 19,  0,  0,  0,  0,  0,  0,  0,  0,  0,  0],\n",
       "         [43, 16,  0,  0,  0,  0,  0,  0,  0,  0,  0,  0,  0,  0,  0,  0,  0,  0],\n",
       "         [16, 43, 43, 19,  0,  0,  0,  0,  0,  0,  0,  0,  0,  0,  0,  0,  0,  0],\n",
       "         [12, 42,  0,  0,  0,  0,  0,  0,  0,  0,  0,  0,  0,  0,  0,  0,  0,  0],\n",
       "         [16, 60, 52, 42,  8, 50, 49, 20,  0,  0,  0,  0,  0,  0,  0,  0,  0,  0],\n",
       "         [21,  0,  0,  0,  0,  0,  0,  0,  0,  0,  0,  0,  0,  0,  0,  0,  0,  0],\n",
       "         [16, 43, 49, 48, 50, 49, 60, 40,  0,  0,  0,  0,  0,  0,  0,  0,  0,  0],\n",
       "         [47, 43, 48, 48, 52, 42,  8, 50,  8,  0,  0,  0,  0,  0,  0,  0,  0,  0],\n",
       "         [54, 40,  0,  0,  0,  0,  0,  0,  0,  0,  0,  0,  0,  0,  0,  0,  0,  0],\n",
       "         [19, 58, 50,  0,  0,  0,  0,  0,  0,  0,  0,  0,  0,  0,  0,  0,  0,  0],\n",
       "         [16, 52, 48, 43, 23, 20,  0,  0,  0,  0,  0,  0,  0,  0,  0,  0,  0,  0],\n",
       "         [47, 43, 60, 43, 42, 50, 60,  0,  0,  0,  0,  0,  0,  0,  0,  0,  0,  0],\n",
       "         [60, 43, 47, 10, 58, 52, 49, 19,  0,  0,  0,  0,  0,  0,  0,  0,  0,  0],\n",
       "         [21,  0,  0,  0,  0,  0,  0,  0,  0,  0,  0,  0,  0,  0,  0,  0,  0,  0],\n",
       "         [52, 42,  8,  0,  0,  0,  0,  0,  0,  0,  0,  0,  0,  0,  0,  0,  0,  0],\n",
       "         [ 1, 52, 20,  0,  0,  0,  0,  0,  0,  0,  0,  0,  0,  0,  0,  0,  0,  0],\n",
       "         [10, 12, 60, 60, 50,  8,  0,  0,  0,  0,  0,  0,  0,  0,  0,  0,  0,  0],\n",
       "         [52, 19,  0,  0,  0,  0,  0,  0,  0,  0,  0,  0,  0,  0,  0,  0,  0,  0],\n",
       "         [19, 58, 50,  0,  0,  0,  0,  0,  0,  0,  0,  0,  0,  0,  0,  0,  0,  0],\n",
       "         [54, 52, 19, 19, 60, 50,  0,  0,  0,  0,  0,  0,  0,  0,  0,  0,  0,  0],\n",
       "         [42, 50, 52, 49,  0,  0,  0,  0,  0,  0,  0,  0,  0,  0,  0,  0,  0,  0],\n",
       "         [ 8, 23, 42, 10, 12, 49, 10,  0,  0,  0,  0,  0,  0,  0,  0,  0,  0,  0],\n",
       "         [52, 65, 52, 12, 42, 20, 19,  0,  0,  0,  0,  0,  0,  0,  0,  0,  0,  0],\n",
       "         [19, 58, 50,  0,  0,  0,  0,  0,  0,  0,  0,  0,  0,  0,  0,  0,  0,  0],\n",
       "         [20,  9, 52, 42, 12, 52, 49,  8, 20,  0,  0,  0,  0,  0,  0,  0,  0,  0]]))"
      ]
     },
     "execution_count": 17,
     "metadata": {},
     "output_type": "execute_result"
    }
   ],
   "source": [
    "sent2matrix(train_data[0][2])"
   ]
  },
  {
   "cell_type": "code",
   "execution_count": 18,
   "metadata": {},
   "outputs": [],
   "source": [
    "import torch.nn as nn\n",
    "import torch.nn.functional as F\n",
    "import torch.autograd\n",
    "from torchcrf import CRF\n",
    "from tqdm import tqdm_notebook as tqdm"
   ]
  },
  {
   "cell_type": "code",
   "execution_count": 19,
   "metadata": {},
   "outputs": [],
   "source": [
    "def batch_generator(data, batch_size=128, is_cuda=True):\n",
    "    x_data, y_data = data\n",
    "    for i in tqdm(range(0, len(x_data), batch_size)):\n",
    "        if i + batch_size > len(x_data):\n",
    "            break\n",
    "        batch_sentances = np.hstack(x_data[i: i + batch_size])\n",
    "        batch_tags = np.hstack(y_data[i: i + batch_size])\n",
    "        tags_vec = torch.LongTensor(torch.from_numpy(np.array([dp.tag2ind[tag] for tag in batch_tags], dtype=np.int64)))\n",
    "        word_vec, char_matrix = sent2matrix(batch_sentances)\n",
    "        if is_cuda:\n",
    "            word_vec = word_vec.cuda()\n",
    "            char_matrix = char_matrix.cuda()\n",
    "            tags_vec = tags_vec.cuda()\n",
    "        yield (word_vec, char_matrix), tags_vec\n",
    "    return"
   ]
  },
  {
   "cell_type": "code",
   "execution_count": 20,
   "metadata": {},
   "outputs": [],
   "source": [
    "import torch.nn as nn\n",
    "import torch.nn.functional as F\n",
    "import torch.autograd as autograd\n",
    "import torch\n",
    "from torchcrf import CRF\n",
    "\n",
    "class CNN_BiLSTM_CRF(nn.Module):\n",
    "    def __init__(self, char_count, char_embedding_dim, word_count, word_embedding_dim, n_filters, \n",
    "                 filter_sizes, dropout, hidden_dim, num_classes=13):\n",
    "        super().__init__()\n",
    "        self.hidden_dim = hidden_dim\n",
    "        \n",
    "        self.char_embedding = nn.Embedding(char_count, char_embedding_dim)\n",
    "        self.convs = nn.ModuleList([nn.Conv2d(in_channels=1, out_channels=n_filters, \n",
    "                                              kernel_size=(size, char_embedding_dim)) for size in filter_sizes])\n",
    "        self.fc = nn.Linear(len(filter_sizes) * n_filters, n_filters * 2)\n",
    "        self.dropout = nn.Dropout(dropout)\n",
    "        \n",
    "        self.word_embedding = nn.Embedding(word_count, word_embedding_dim)\n",
    "        \n",
    "        self.lstm = nn.LSTM(word_embedding_dim + n_filters * 2, \n",
    "                            self.hidden_dim // 2, bidirectional=True,\n",
    "                            batch_first=True)\n",
    "        self.hidden2tag = nn.Linear(self.hidden_dim, num_classes)\n",
    "        \n",
    "        self.CRF = CRF(num_classes, batch_first=True)\n",
    "        \n",
    "        \n",
    "    def forward(self, inp):\n",
    "        out_cnn = []\n",
    "        words, chars = inp\n",
    "        for x in chars:\n",
    "            x = x.view(1, -1)\n",
    "            char_embedded = self.char_embedding(x)\n",
    "            char_embedded = char_embedded.unsqueeze(1)\n",
    "            conved = [F.relu(conv(char_embedded)).squeeze(3) for conv in self.convs]\n",
    "            pooled = [F.max_pool1d(conv, conv.shape[2]).squeeze(2) for conv in conved]\n",
    "            char_cat = self.dropout(torch.cat((pooled), dim=1))\n",
    "            out_cnn.append(char_cat)\n",
    "            \n",
    "        out_cnn = torch.cat(out_cnn, dim=0)\n",
    "        fin_cat = torch.cat((self.word_embedding(words), out_cnn), 1)\n",
    "        char_cat = fin_cat.unsqueeze(1)\n",
    "        char_cat = self.dropout(char_cat)\n",
    "\n",
    "        lstm_out, _ = self.lstm(char_cat)\n",
    "        lstm_out = lstm_out.view(len(words), self.hidden_dim)\n",
    "        lstm_feats = self.hidden2tag(lstm_out)\n",
    "        \n",
    "        return F.log_softmax(lstm_feats)"
   ]
  },
  {
   "cell_type": "code",
   "execution_count": 21,
   "metadata": {},
   "outputs": [],
   "source": [
    "from tqdm import tqdm_notebook as tqdm\n",
    "%matplotlib inline\n",
    "import matplotlib.pyplot as plt\n",
    "from IPython.display import clear_output\n",
    "import torch.optim as optim\n",
    "from sklearn.metrics import f1_score\n",
    "\n",
    "\n",
    "def train_epoch(model, optimazer, criterion, gen):\n",
    "    loss_log, acc_log = [], []\n",
    "    step = 0\n",
    "    \n",
    "    model.train(True)\n",
    "\n",
    "    for batch in gen:   \n",
    "        data = batch[0]\n",
    "        target = batch[1]\n",
    "\n",
    "        optimazer.zero_grad()\n",
    "\n",
    "        output = model(data)\n",
    "        loss = -model.CRF(output.unsqueeze(1), target.unsqueeze(1)) / len(data[0])\n",
    "        \n",
    "        acc = f1_score(model.CRF.decode(output.unsqueeze(1)), \n",
    "                       target.cpu(), average='macro').mean()\n",
    "        acc_log.append(acc.item())\n",
    "\n",
    "        loss.backward()\n",
    "        optimazer.step()\n",
    "        loss_log.append(loss.item())\n",
    "        step += 1\n",
    "    return loss_log, acc_log, step\n",
    "        \n",
    "    \n",
    "def test(model, criterion, gen):\n",
    "    loss_log, acc_log = [], []\n",
    "    model.eval()\n",
    "\n",
    "    for batch in gen:   \n",
    "        data = batch[0]\n",
    "        target = batch[1]\n",
    "\n",
    "        output = model(data)\n",
    "        loss = -model.CRF(output.unsqueeze(1), torch.tensor(target).unsqueeze(1)) / len(data[0])\n",
    "        \n",
    "        acc = f1_score(model.CRF.decode(output.unsqueeze(1)), \n",
    "                       target, average='macro').mean()\n",
    "        acc_log.append(acc.item())\n",
    "        \n",
    "        loss_log.append(loss.item())\n",
    "        \n",
    "    return loss_log, acc_log\n",
    "\n",
    "    \n",
    "def plot_history(train_history, val_history, title='loss'):\n",
    "    plt.figure()\n",
    "    plt.title('{}'.format(title))\n",
    "    plt.plot(train_history, label='train', zorder=1)\n",
    "    \n",
    "    points = np.array(val_history)\n",
    "    \n",
    "    plt.scatter(points[:, 0], points[:, 1], marker='+', s=180, c='orange', label='val', zorder=2)\n",
    "    plt.xlabel('train steps')\n",
    "    \n",
    "    plt.legend(loc='best')\n",
    "    plt.grid()\n",
    "\n",
    "    plt.show()\n",
    "    \n",
    "    \n",
    "def train(model, optimazer, criterion, n_epochs, batch_size, is_cuda=True):\n",
    "    if is_cuda:\n",
    "        model = model.cuda()\n",
    "    train_loss_log, train_acc_log = [], []\n",
    "    val_loss_log, val_acc_log = [], []\n",
    "    \n",
    "    for epoch in range(n_epochs):\n",
    "        print('Epoch {0} of {1}'.format(epoch, n_epochs))\n",
    "        \n",
    "        train_gen = batch_generator(train_data, batch_size=64, is_cuda=is_cuda)\n",
    "        test_gen = batch_generator(test_data, batch_size=64, is_cuda=is_cuda)\n",
    "        \n",
    "        train_loss, train_acc, step = train_epoch(model, optimazer, criterion, train_gen)\n",
    "        train_loss_log.extend(train_loss)\n",
    "        train_acc_log.extend(train_acc)\n",
    "        \n",
    "        val_loss, val_acc = test(model, criterion, test_gen)\n",
    "        print(val_loss)\n",
    "        val_loss_log.append((step * (epoch + 1), np.mean(val_loss)))\n",
    "        print(val_acc)\n",
    "        val_acc_log.append((step * (epoch + 1), np.mean(val_acc)))\n",
    "        \n",
    "        clear_output()\n",
    "        plot_history(train_loss_log, val_loss_log)\n",
    "        plot_history(train_acc_log, val_acc_log, title='accuracy')\n",
    "\n",
    "        print(\"Epoch: {0}, val loss: {1}, val accuracy: {2}\".format(epoch, \n",
    "                                                                    np.mean(val_loss), np.mean(val_acc)))\n",
    "    model = model.cpu()"
   ]
  },
  {
   "cell_type": "code",
   "execution_count": 22,
   "metadata": {},
   "outputs": [
    {
     "data": {
      "image/png": "[encoded data removed]",
      "text/plain": [
       "<Figure size 432x288 with 1 Axes>"
      ]
     },
     "metadata": {
      "needs_background": "light"
     },
     "output_type": "display_data"
    },
    {
     "data": {
      "image/png": "[encoded data removed]",
      "text/plain": [
       "<Figure size 432x288 with 1 Axes>"
      ]
     },
     "metadata": {
      "needs_background": "light"
     },
     "output_type": "display_data"
    },
    {
     "name": "stdout",
     "output_type": "stream",
     "text": [
      "Epoch: 9, val loss: 0.4840678639950291, val accuracy: 0.3050508237952553\n"
     ]
    }
   ],
   "source": [
    "import torch.optim as optim\n",
    "\"\"\"\n",
    "char_count, char_embedding_dim, word_count, word_embedding_dim, n_filters, \n",
    "                 filter_sizes, dropout, hidden_dim, num_classes=13\n",
    "\"\"\"\n",
    "char_count = len(dp.char2ind)\n",
    "word_count = len(dp.word2ind)\n",
    "word_embedding_dim = 200\n",
    "char_embedding_dim = 30\n",
    "n_filters = 15\n",
    "batch_size = 64\n",
    "filter_sizes = [3, 4]\n",
    "dropout = 0.2\n",
    "n_epochs = 10\n",
    "hidden_dim = 230\n",
    "\n",
    "model = CNN_BiLSTM_CRF(char_count, char_embedding_dim, word_count, word_embedding_dim, \n",
    "                   n_filters, filter_sizes,\n",
    "                   dropout, hidden_dim)\n",
    "loss_function = nn.NLLLoss()\n",
    "optimizer = optim.AdamW(model.parameters(), lr=0.001)\n",
    "\n",
    "train(model, optimizer, loss_function, n_epochs=n_epochs, batch_size=batch_size, is_cuda=False)\n"
   ]
  }
 ],
 "metadata": {
  "kernelspec": {
   "display_name": "Python 3",
   "language": "python",
   "name": "python3"
  },
  "language_info": {
   "codemirror_mode": {
    "name": "ipython",
    "version": 3
   },
   "file_extension": ".py",
   "mimetype": "text/x-python",
   "name": "python",
   "nbconvert_exporter": "python",
   "pygments_lexer": "ipython3",
   "version": "3.7.5"
  }
 },
 "nbformat": 4,
 "nbformat_minor": 2
}
